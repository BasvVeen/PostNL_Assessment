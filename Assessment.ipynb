{
 "cells": [
  {
   "cell_type": "markdown",
   "metadata": {},
   "source": [
    "### Importing packages"
   ]
  },
  {
   "cell_type": "code",
   "execution_count": 369,
   "metadata": {},
   "outputs": [
    {
     "name": "stdout",
     "output_type": "stream",
     "text": [
      "Libraries Imported\n"
     ]
    }
   ],
   "source": [
    "import numpy as np\n",
    "import pandas as pd\n",
    "import matplotlib.pyplot as plt\n",
    "import seaborn as sns\n",
    "from sklearn.model_selection import train_test_split\n",
    "from sklearn.metrics import accuracy_score, roc_auc_score\n",
    "from sklearn.preprocessing import OrdinalEncoder, OneHotEncoder, LabelBinarizer\n",
    "from sklearn.ensemble import RandomForestClassifier\n",
    "from sklearn.model_selection import GridSearchCV, RepeatedKFold\n",
    "from sklearn.feature_selection import SelectKBest, chi2\n",
    "from keras import Sequential\n",
    "from keras.layers import Dense, Dropout, Input\n",
    "from xgboost import XGBClassifier\n",
    "from scikeras.wrappers import KerasClassifier\n",
    "from keras import regularizers\n",
    "print('Libraries Imported')\n",
    "\n",
    "\n",
    "kut devops "
   ]
  },
  {
   "cell_type": "markdown",
   "metadata": {},
   "source": [
    "### Exploratory Data Analysis"
   ]
  },
  {
   "cell_type": "code",
   "execution_count": 370,
   "metadata": {},
   "outputs": [
    {
     "data": {
      "text/html": [
       "<div>\n",
       "<style scoped>\n",
       "    .dataframe tbody tr th:only-of-type {\n",
       "        vertical-align: middle;\n",
       "    }\n",
       "\n",
       "    .dataframe tbody tr th {\n",
       "        vertical-align: top;\n",
       "    }\n",
       "\n",
       "    .dataframe thead th {\n",
       "        text-align: right;\n",
       "    }\n",
       "</style>\n",
       "<table border=\"1\" class=\"dataframe\">\n",
       "  <thead>\n",
       "    <tr style=\"text-align: right;\">\n",
       "      <th></th>\n",
       "      <th>parcel_id</th>\n",
       "      <th>shipment_date</th>\n",
       "      <th>is_weekend</th>\n",
       "      <th>hour</th>\n",
       "      <th>distance_km</th>\n",
       "      <th>parcel_size</th>\n",
       "      <th>parcel_weight_kg</th>\n",
       "      <th>traffic_level</th>\n",
       "      <th>weather_condition</th>\n",
       "      <th>delivery_time_window</th>\n",
       "    </tr>\n",
       "  </thead>\n",
       "  <tbody>\n",
       "    <tr>\n",
       "      <th>0</th>\n",
       "      <td>1</td>\n",
       "      <td>2024-04-17</td>\n",
       "      <td>0</td>\n",
       "      <td>14</td>\n",
       "      <td>38.079472</td>\n",
       "      <td>small</td>\n",
       "      <td>3.330077</td>\n",
       "      <td>low</td>\n",
       "      <td>foggy</td>\n",
       "      <td>afternoon</td>\n",
       "    </tr>\n",
       "    <tr>\n",
       "      <th>1</th>\n",
       "      <td>2</td>\n",
       "      <td>2024-07-07</td>\n",
       "      <td>1</td>\n",
       "      <td>14</td>\n",
       "      <td>95.120716</td>\n",
       "      <td>medium</td>\n",
       "      <td>0.675873</td>\n",
       "      <td>low</td>\n",
       "      <td>rainy</td>\n",
       "      <td>afternoon</td>\n",
       "    </tr>\n",
       "    <tr>\n",
       "      <th>2</th>\n",
       "      <td>3</td>\n",
       "      <td>2024-03-27</td>\n",
       "      <td>0</td>\n",
       "      <td>14</td>\n",
       "      <td>73.467400</td>\n",
       "      <td>medium</td>\n",
       "      <td>45.398848</td>\n",
       "      <td>high</td>\n",
       "      <td>sunny</td>\n",
       "      <td>evening</td>\n",
       "    </tr>\n",
       "    <tr>\n",
       "      <th>3</th>\n",
       "      <td>4</td>\n",
       "      <td>2024-04-29</td>\n",
       "      <td>0</td>\n",
       "      <td>14</td>\n",
       "      <td>60.267190</td>\n",
       "      <td>medium</td>\n",
       "      <td>28.637023</td>\n",
       "      <td>low</td>\n",
       "      <td>sunny</td>\n",
       "      <td>evening</td>\n",
       "    </tr>\n",
       "    <tr>\n",
       "      <th>4</th>\n",
       "      <td>5</td>\n",
       "      <td>2024-06-06</td>\n",
       "      <td>0</td>\n",
       "      <td>9</td>\n",
       "      <td>16.445845</td>\n",
       "      <td>small</td>\n",
       "      <td>9.344217</td>\n",
       "      <td>high</td>\n",
       "      <td>snowy</td>\n",
       "      <td>evening</td>\n",
       "    </tr>\n",
       "  </tbody>\n",
       "</table>\n",
       "</div>"
      ],
      "text/plain": [
       "   parcel_id shipment_date  is_weekend  hour  distance_km parcel_size  \\\n",
       "0          1    2024-04-17           0    14    38.079472       small   \n",
       "1          2    2024-07-07           1    14    95.120716      medium   \n",
       "2          3    2024-03-27           0    14    73.467400      medium   \n",
       "3          4    2024-04-29           0    14    60.267190      medium   \n",
       "4          5    2024-06-06           0     9    16.445845       small   \n",
       "\n",
       "   parcel_weight_kg traffic_level weather_condition delivery_time_window  \n",
       "0          3.330077           low             foggy            afternoon  \n",
       "1          0.675873           low             rainy            afternoon  \n",
       "2         45.398848          high             sunny              evening  \n",
       "3         28.637023           low             sunny              evening  \n",
       "4          9.344217          high             snowy              evening  "
      ]
     },
     "execution_count": 370,
     "metadata": {},
     "output_type": "execute_result"
    }
   ],
   "source": [
    "delivery_data = pd.read_csv(\"parcel_delivery_dataset.csv\")\n",
    "\n",
    "random_state = 42\n",
    "\n",
    "y_col = 'delivery_time_window'\n",
    "\n",
    "delivery_data.head()"
   ]
  },
  {
   "cell_type": "code",
   "execution_count": 371,
   "metadata": {},
   "outputs": [
    {
     "data": {
      "text/plain": [
       "parcel_id                 int64\n",
       "shipment_date            object\n",
       "is_weekend                int64\n",
       "hour                      int64\n",
       "distance_km             float64\n",
       "parcel_size              object\n",
       "parcel_weight_kg        float64\n",
       "traffic_level            object\n",
       "weather_condition        object\n",
       "delivery_time_window     object\n",
       "dtype: object"
      ]
     },
     "execution_count": 371,
     "metadata": {},
     "output_type": "execute_result"
    }
   ],
   "source": [
    "delivery_data.dtypes"
   ]
  },
  {
   "cell_type": "code",
   "execution_count": 372,
   "metadata": {},
   "outputs": [
    {
     "name": "stdout",
     "output_type": "stream",
     "text": [
      "There are 0 duplicate rows.\n"
     ]
    }
   ],
   "source": [
    "duplicate_rows = delivery_data[delivery_data.duplicated()]\n",
    "\n",
    "print(f\"There are {duplicate_rows.shape[0]} duplicate rows.\")"
   ]
  },
  {
   "cell_type": "code",
   "execution_count": 373,
   "metadata": {},
   "outputs": [
    {
     "name": "stdout",
     "output_type": "stream",
     "text": [
      "parcel_id               0\n",
      "shipment_date           0\n",
      "is_weekend              0\n",
      "hour                    0\n",
      "distance_km             0\n",
      "parcel_size             0\n",
      "parcel_weight_kg        0\n",
      "traffic_level           0\n",
      "weather_condition       0\n",
      "delivery_time_window    0\n",
      "dtype: int64\n"
     ]
    }
   ],
   "source": [
    "rows_with_nulls = delivery_data.isnull().sum()\n",
    "print(rows_with_nulls)"
   ]
  },
  {
   "cell_type": "markdown",
   "metadata": {},
   "source": [
    "So there are no duplicate rows in the dataset and no rows containing any NaN or Null values."
   ]
  },
  {
   "cell_type": "code",
   "execution_count": 374,
   "metadata": {},
   "outputs": [
    {
     "data": {
      "text/plain": [
       "parcel_id               50000\n",
       "shipment_date             366\n",
       "is_weekend                  2\n",
       "hour                       17\n",
       "distance_km             50000\n",
       "parcel_size                 3\n",
       "parcel_weight_kg        50000\n",
       "traffic_level               3\n",
       "weather_condition           4\n",
       "delivery_time_window        3\n",
       "dtype: int64"
      ]
     },
     "execution_count": 374,
     "metadata": {},
     "output_type": "execute_result"
    }
   ],
   "source": [
    "delivery_data.nunique()"
   ]
  },
  {
   "cell_type": "markdown",
   "metadata": {},
   "source": [
    "There are exactly the amount of values for the object dtype columns as you would expect (3, 3, 4 and 3), meaning there are no misspellings of categories. "
   ]
  },
  {
   "cell_type": "code",
   "execution_count": 375,
   "metadata": {},
   "outputs": [
    {
     "data": {
      "text/html": [
       "<div>\n",
       "<style scoped>\n",
       "    .dataframe tbody tr th:only-of-type {\n",
       "        vertical-align: middle;\n",
       "    }\n",
       "\n",
       "    .dataframe tbody tr th {\n",
       "        vertical-align: top;\n",
       "    }\n",
       "\n",
       "    .dataframe thead th {\n",
       "        text-align: right;\n",
       "    }\n",
       "</style>\n",
       "<table border=\"1\" class=\"dataframe\">\n",
       "  <thead>\n",
       "    <tr style=\"text-align: right;\">\n",
       "      <th></th>\n",
       "      <th>count</th>\n",
       "      <th>mean</th>\n",
       "      <th>std</th>\n",
       "      <th>min</th>\n",
       "      <th>25%</th>\n",
       "      <th>50%</th>\n",
       "      <th>75%</th>\n",
       "      <th>max</th>\n",
       "    </tr>\n",
       "  </thead>\n",
       "  <tbody>\n",
       "    <tr>\n",
       "      <th>is_weekend</th>\n",
       "      <td>50000.0</td>\n",
       "      <td>0.284080</td>\n",
       "      <td>0.450980</td>\n",
       "      <td>0.000000</td>\n",
       "      <td>0.000000</td>\n",
       "      <td>0.000000</td>\n",
       "      <td>1.000000</td>\n",
       "      <td>1.000000</td>\n",
       "    </tr>\n",
       "    <tr>\n",
       "      <th>hour</th>\n",
       "      <td>50000.0</td>\n",
       "      <td>12.587480</td>\n",
       "      <td>4.069275</td>\n",
       "      <td>6.000000</td>\n",
       "      <td>9.000000</td>\n",
       "      <td>14.000000</td>\n",
       "      <td>14.000000</td>\n",
       "      <td>22.000000</td>\n",
       "    </tr>\n",
       "    <tr>\n",
       "      <th>distance_km</th>\n",
       "      <td>50000.0</td>\n",
       "      <td>50.387477</td>\n",
       "      <td>28.552232</td>\n",
       "      <td>1.000548</td>\n",
       "      <td>25.642078</td>\n",
       "      <td>50.390299</td>\n",
       "      <td>75.081838</td>\n",
       "      <td>99.997243</td>\n",
       "    </tr>\n",
       "    <tr>\n",
       "      <th>parcel_weight_kg</th>\n",
       "      <td>50000.0</td>\n",
       "      <td>25.210404</td>\n",
       "      <td>14.273970</td>\n",
       "      <td>0.500780</td>\n",
       "      <td>12.798958</td>\n",
       "      <td>25.230957</td>\n",
       "      <td>37.450028</td>\n",
       "      <td>49.996822</td>\n",
       "    </tr>\n",
       "  </tbody>\n",
       "</table>\n",
       "</div>"
      ],
      "text/plain": [
       "                    count       mean        std       min        25%  \\\n",
       "is_weekend        50000.0   0.284080   0.450980  0.000000   0.000000   \n",
       "hour              50000.0  12.587480   4.069275  6.000000   9.000000   \n",
       "distance_km       50000.0  50.387477  28.552232  1.000548  25.642078   \n",
       "parcel_weight_kg  50000.0  25.210404  14.273970  0.500780  12.798958   \n",
       "\n",
       "                        50%        75%        max  \n",
       "is_weekend         0.000000   1.000000   1.000000  \n",
       "hour              14.000000  14.000000  22.000000  \n",
       "distance_km       50.390299  75.081838  99.997243  \n",
       "parcel_weight_kg  25.230957  37.450028  49.996822  "
      ]
     },
     "execution_count": 375,
     "metadata": {},
     "output_type": "execute_result"
    }
   ],
   "source": [
    "delivery_data = delivery_data.drop(['parcel_id'], axis = 1)\n",
    "\n",
    "delivery_data.describe().T"
   ]
  },
  {
   "cell_type": "markdown",
   "metadata": {},
   "source": [
    "Remove parcel_id, as I assume it has no predictive power for the delivery window."
   ]
  },
  {
   "cell_type": "markdown",
   "metadata": {},
   "source": [
    "There is no need for normalization as the ranges of all numerical features are at most a factor 5 apart. There are no missing values, no duplicates and no missspellings in the data, so the data is clean and can be used for training and prediction."
   ]
  },
  {
   "cell_type": "code",
   "execution_count": 376,
   "metadata": {},
   "outputs": [],
   "source": [
    "cat_cols=delivery_data.select_dtypes(include=['object']).columns\n",
    "num_cols = delivery_data.select_dtypes(include=np.number).columns.tolist()"
   ]
  },
  {
   "cell_type": "code",
   "execution_count": 377,
   "metadata": {},
   "outputs": [
    {
     "name": "stdout",
     "output_type": "stream",
     "text": [
      "is_weekend\n",
      "Skew : 0.96\n"
     ]
    },
    {
     "data": {
      "image/png": "[encoded data removed]",
      "text/plain": [
       "<Figure size 1200x400 with 2 Axes>"
      ]
     },
     "metadata": {},
     "output_type": "display_data"
    },
    {
     "name": "stdout",
     "output_type": "stream",
     "text": [
      "hour\n",
      "Skew : 0.66\n"
     ]
    },
    {
     "data": {
      "image/png": "[encoded data removed]",
      "text/plain": [
       "<Figure size 1200x400 with 2 Axes>"
      ]
     },
     "metadata": {},
     "output_type": "display_data"
    },
    {
     "name": "stdout",
     "output_type": "stream",
     "text": [
      "distance_km\n",
      "Skew : 0.01\n"
     ]
    },
    {
     "data": {
      "image/png": "[encoded data removed]",
      "text/plain": [
       "<Figure size 1200x400 with 2 Axes>"
      ]
     },
     "metadata": {},
     "output_type": "display_data"
    },
    {
     "name": "stdout",
     "output_type": "stream",
     "text": [
      "parcel_weight_kg\n",
      "Skew : -0.0\n"
     ]
    },
    {
     "data": {
      "image/png": "[encoded data removed]",
      "text/plain": [
       "<Figure size 1200x400 with 2 Axes>"
      ]
     },
     "metadata": {},
     "output_type": "display_data"
    }
   ],
   "source": [
    "for col in num_cols:\n",
    "    print(col)\n",
    "    print('Skew :', round(delivery_data[col].skew(), 2))\n",
    "    plt.figure(figsize = (12, 4))\n",
    "    plt.subplot(1, 2, 1)\n",
    "    delivery_data[col].hist(grid=False)\n",
    "    plt.ylabel('count')\n",
    "    plt.xlabel(col)\n",
    "    plt.subplot(1, 2, 2)\n",
    "    sns.boxplot(x=delivery_data[col],)\n",
    "    plt.show()"
   ]
  },
  {
   "cell_type": "markdown",
   "metadata": {},
   "source": [
    "As is evident from the plots, there is about an equal amount of examples for the distance_km and parcel_weight values. is_weekend is skewed to the 0 (week days), which makes sense as there are both more weekdays and more packages get send during the week. The expected delivery hour peaks at ~9, 15 and 19/20, with few packages being delivered after 18. 9 and 15 are the mean hours from the delivery windows, so it makes sense that those are the most prevalent times. Fewer packages get delivered in the evening."
   ]
  },
  {
   "cell_type": "code",
   "execution_count": 378,
   "metadata": {},
   "outputs": [
    {
     "data": {
      "image/png": "[encoded data removed]",
      "text/plain": [
       "<Figure size 1800x1000 with 4 Axes>"
      ]
     },
     "metadata": {},
     "output_type": "display_data"
    }
   ],
   "source": [
    "fig, axes = plt.subplots(1, 4, figsize = (18, 10))\n",
    "fig.suptitle('Bar plot for all categorical variables in the dataset')\n",
    "for ax, col in zip(axes.ravel(), cat_cols[1:]):\n",
    "    sns.countplot(ax = ax, x = col, data = delivery_data, color = 'blue', order = delivery_data[col].value_counts().index, stat = 'percent')\n",
    "    ax.set_xlabel(col)\n",
    "\n"
   ]
  },
  {
   "cell_type": "markdown",
   "metadata": {},
   "source": [
    "We can see that the high traffic level and snowy and foggy classes are less present in the data, but are not so far less than the other categories to warrant balancing the dataset. The to predict feature 'delivery_time_window' is not unbalanced, as there are enough examples of all three categories. "
   ]
  },
  {
   "cell_type": "markdown",
   "metadata": {},
   "source": [
    "### Feature engineering and feature selection"
   ]
  },
  {
   "cell_type": "code",
   "execution_count": 379,
   "metadata": {},
   "outputs": [],
   "source": [
    "def get_season(date):\n",
    "  m = date.month\n",
    "  x = m%12 // 3 + 1\n",
    "  if x == 1:\n",
    "    season = \"Winter\"\n",
    "  if x == 2:\n",
    "    season = \"Spring\"\n",
    "  if x == 3:\n",
    "    season = \"Summer\"\n",
    "  if x == 4:\n",
    "    season = \"Autumn\"\n",
    "  return season\n",
    "\n",
    "delivery_data.insert(len(delivery_data.columns)-1, 'season', pd.to_datetime(delivery_data['shipment_date'], format = '%Y-%m-%d'))\n",
    "\n",
    "delivery_data['season'] = delivery_data['season'].apply(get_season)\n",
    "\n",
    "delivery_data = delivery_data.drop(['shipment_date'], axis = 1)\n"
   ]
  },
  {
   "cell_type": "code",
   "execution_count": 367,
   "metadata": {},
   "outputs": [],
   "source": [
    "PartOfDay = {\n",
    "    'morning': [6,7,8,9,10,11],\n",
    "    'afternoon': [12, 13, 14 ,15, 16, 17],\n",
    "    'evening': [18, 19, 20, 21, 22, 23]\n",
    "}\n",
    "\n",
    "hour_to_partofday = {hour:partofday for partofday, hours in PartOfDay.items()\n",
    "   for hour in hours}\n",
    "\n",
    "delivery_data['hour'] = delivery_data['hour'].replace(hour_to_partofday)"
   ]
  },
  {
   "cell_type": "markdown",
   "metadata": {},
   "source": [
    "Create a new column called 'season' from the shipment_date column. Also, change hour to day_part to attempt to reduce its feature importance. Season could be a good feature to predict the delivery_time_window."
   ]
  },
  {
   "cell_type": "code",
   "execution_count": 289,
   "metadata": {},
   "outputs": [],
   "source": [
    "def get_features(data, nr_features : int = 5):\n",
    "    \"\"\"This function selects the features with the highest chi2 scores; their relationship with the output variable.\n",
    "\n",
    "    Args:\n",
    "        data (Dataframe): This is the total inputdata after the EDA and feature engineering\n",
    "        nr_features (int, optional): _Number of features you want to keep. Defaults to 5.\n",
    "\n",
    "    Returns:\n",
    "        Dataframe: This function returns the dataframe with the selected features only.\n",
    "    \"\"\"    \n",
    "\n",
    "    #Initialize the classifier and the encoder, as it cannot handle categorical data\n",
    "    fs = SelectKBest(score_func=chi2, k=nr_features)\n",
    "\n",
    "    encoder = OrdinalEncoder()\n",
    "\n",
    "    #Selecting columns used to make a selection later\n",
    "    cat_cols=data.select_dtypes(include=['object']).columns\n",
    "\n",
    "    X_cols = data.iloc[:, :-1].columns\n",
    "    \n",
    "    encoder.fit(data[cat_cols])\n",
    "\n",
    "    #Create copy of data to encode and train the classifier with\n",
    "\n",
    "    place_holder = data.copy(deep = True)\n",
    "\n",
    "    #Encode the categorical columns of the copy and split into X and y training and test sets\n",
    "    place_holder[cat_cols] = encoder.transform(place_holder[cat_cols])\n",
    "\n",
    "    X = place_holder.iloc[:, :-1].values\n",
    "\n",
    "    y = place_holder.iloc[:, -1].values\n",
    "\n",
    "    X_train, X_test, y_train, y_test = train_test_split(X, y, test_size = 0.2, random_state = random_state)\n",
    "\n",
    "    #Train the classifier\n",
    "    fs.fit(X_train, y_train)\n",
    "\n",
    "    #Create mask for most important features and add them to a list\n",
    "    mask = fs.get_support()\n",
    "    new_features = []\n",
    "\n",
    "    for bool_val, feature in zip(mask, X_cols):\n",
    "        if bool_val:\n",
    "            new_features.append(feature)\n",
    "\n",
    "    new_features.append(y_col)\n",
    "\n",
    "    return data[new_features]\n",
    "\n",
    "delivery_data_fs = get_features(delivery_data)"
   ]
  },
  {
   "cell_type": "markdown",
   "metadata": {},
   "source": [
    "The features with the highest chi2 scores are is_weekend, hour, distance_km, traffic_level and weather_condition. is_weekend and hour have the highest importance by a large margin (especially hour). I will use these features for the rest of the training and evaluation."
   ]
  },
  {
   "cell_type": "markdown",
   "metadata": {},
   "source": [
    "### Encoding the data"
   ]
  },
  {
   "cell_type": "code",
   "execution_count": 339,
   "metadata": {},
   "outputs": [],
   "source": [
    "def one_hot_encode__data(data, y_col):\n",
    "    \"\"\"This function encodes categorical data by use of one-hot encoding, so it can be used by the sklearn models.\n",
    "\n",
    "    Args:\n",
    "        data (dataframe): All the data that will be used for training and evaluation, both numerical and categorical\n",
    "\n",
    "    Returns:\n",
    "        Array : The function returns all the numerical data, with the categorical data one-hot encoded.\n",
    "    \"\"\"       \n",
    "    #Get the categorical columns and data and split X and y data\n",
    "\n",
    "    X = data.drop(y_col, axis = 1)\n",
    "\n",
    "    cat_col_X = X.select_dtypes(include=['object']).columns\n",
    "\n",
    "    y = data[y_col]\n",
    "\n",
    "    #Define the encoders\n",
    "\n",
    "    one_hot = OneHotEncoder(sparse_output=False)\n",
    "\n",
    "    label_bin = LabelBinarizer(sparse_output=False)\n",
    "\n",
    "    #Fit the encoders and transform the data in one-hot format.\n",
    "\n",
    "    oh_enc = one_hot.fit_transform(X[cat_col_X])\n",
    "    \n",
    "    y = label_bin.fit_transform(y)\n",
    "\n",
    "    num_data = X.loc[:, ~X.columns.isin(cat_col_X)].values\n",
    "    \n",
    "    all_X_data = np.concatenate((num_data, oh_enc), axis = 1)\n",
    "    \n",
    "    #Encode all the categorical features and split in X and y arrays\n",
    "\n",
    "    y = y\n",
    "    \n",
    "    X = all_X_data\n",
    "    \n",
    "    return X, y\n",
    "\n",
    "def ordinal_encode_data(data):\n",
    "    \"\"\"This function encodes categorical data by use of ordinal encoding, so it can be used by the sklearn models.\n",
    "\n",
    "    Args:\n",
    "        data (dataframe): All the data that will be used for training and evaluation, both numerical and categorical\n",
    "\n",
    "    Returns:\n",
    "        Array : The function returns all the numerical data, with the categorical data ordinal encoded.\n",
    "    \"\"\"   \n",
    "\n",
    "    #Get the categorical columns and data\n",
    "\n",
    "    cat_cols=data.select_dtypes(include=['object']).columns\n",
    "\n",
    "    #Define the encoders\n",
    "\n",
    "    ord_enc = OrdinalEncoder()\n",
    "\n",
    "    #Fit the encoders and transform the data in one-hot format.\n",
    "\n",
    "    ord_enc.fit_transform(data[cat_cols])\n",
    "\n",
    "    #Encode all the categorical features and split in X and y arrays\n",
    "\n",
    "    data[cat_cols] = ord_enc.transform(data[cat_cols])\n",
    "\n",
    "    y = data.iloc[:, -1].values\n",
    "\n",
    "    X = data.iloc[:, :-1].values\n",
    "\n",
    "    return X, y\n",
    "\n",
    "X_oh, y_oh = one_hot_encode__data(delivery_data_fs, 'delivery_time_window')\n",
    "\n",
    "X_ord, y_ord = ordinal_encode_data(delivery_data_fs)"
   ]
  },
  {
   "cell_type": "markdown",
   "metadata": {},
   "source": [
    "The SKLearn models don't take categorical features as input, so the classes for the categorical features need to be encoded to numerical. As neural networks will take a class with value 5 as more important than a class with value 1, I use onehot encoding to create dummy variables for the different categories. As RandomForest and XGBoost make decisions based on the classes, they can take ordinal classes as input, so I use an ordinal encoder."
   ]
  },
  {
   "cell_type": "code",
   "execution_count": 294,
   "metadata": {},
   "outputs": [],
   "source": [
    "X_train_ord, X_test_ord, y_train_ord, y_test_ord = train_test_split(X_ord, y_ord, test_size = 0.2, random_state = random_state)\n",
    "X_train_oh, X_test_oh,  y_train_oh, y_test_oh = train_test_split(X_oh, y_oh, test_size = 0.2, random_state = random_state)\n"
   ]
  },
  {
   "cell_type": "markdown",
   "metadata": {},
   "source": [
    "### Creating the neural network and Random Forest"
   ]
  },
  {
   "cell_type": "code",
   "execution_count": 335,
   "metadata": {},
   "outputs": [],
   "source": [
    "# Create the neural network\n",
    "def get_model(n_inputs : int, n_outputs : int, optimizer : str = 'adam', activation : str = 'relu', dropout : float = 0.5):\n",
    "   \"\"\"This function generates a neural network using the keras library.\n",
    "\n",
    "   Args:\n",
    "       n_inputs (int): The number of input features.\n",
    "       n_outputs (int): The number of output features.\n",
    "       optimizer (str, optional): The optimizer used by the compiler. Defaults to 'adam'.\n",
    "       activation (str, optional): The activation function used by the layers in the neural network. Defaults to 'relu'.\n",
    "       dropout (float, optional): The dropout probability of the dropout layer. Defaults to 0.5.\n",
    "\n",
    "   Returns:\n",
    "       model: Returns a neural network model with 5 layers, of which two dropout and two hidden layer. \n",
    "   \"\"\"   \n",
    "   model = Sequential()\n",
    "   model.add(Input(shape=(n_inputs,)))\n",
    "   model.add(Dense(n_inputs, kernel_initializer='he_uniform', activation = activation, kernel_regularizer = regularizers.l2(0.01)))\n",
    "   model.add(Dropout(dropout))\n",
    "   model.add(Dense(128, activation = activation, kernel_regularizer = regularizers.l2(0.01)))\n",
    "   model.add(Dropout(dropout))\n",
    "   model.add(Dense(n_outputs, activation='sigmoid'))\n",
    "\n",
    "   #compile the model\n",
    "   model.compile(loss='categorical_crossentropy', optimizer=optimizer, metrics = ['accuracy'])\n",
    "   return model\n",
    " \n",
    "# evaluate a model using repeated k-fold cross-validation\n",
    "def evaluate_ANN_model(X, y, optimizer : str = 'adam', activation : str = 'relu', dropout : float = 0.1):\n",
    "    \"\"\"This function evaluates a model, using kfold cross-validation and returns the accuracy of the predictions.\n",
    "\n",
    "    Args:\n",
    "        X (numpy array): The feature data with which y is predicted, with the categorical variables in one-hot encoded format. \n",
    "        y (numpy array): The target variable that is to be predicted, in one-hot encoded format.\n",
    "        optimizer (str, optional): Optimizer used for the neural network. Defaults to 'adam'.\n",
    "        activation (str, optional): Activation function used for the network layers. Defaults to 'relu'.\n",
    "        dropout (float, optional): Dropout probability of nodes in the network. Defaults to 0.5.\n",
    "\n",
    "    Returns:\n",
    "        List of accuracy and auc scores: The function returns a list of all accuracy scores obtained from the model training.\n",
    "    \"\"\" \n",
    "    results = list()\n",
    "    n_inputs, n_outputs = X.shape[1], y.shape[1]\n",
    "    # define evaluation procedure\n",
    "    cv = RepeatedKFold(n_splits=10, n_repeats=3, random_state = random_state)\n",
    "    # enumerate folds\n",
    "    for train_ix, test_ix in cv.split(X):\n",
    "        # prepare data\n",
    "        X_train, X_test = X[train_ix], X[test_ix]\n",
    "        y_train, y_test = y[train_ix], y[test_ix]\n",
    "        # define model\n",
    "        model = get_model(n_inputs, n_outputs, optimizer, activation, dropout)\n",
    "        # fit model, using a validation split\n",
    "        model.fit(X_train, y_train, verbose=0, batch_size = 256, epochs=100, validation_split = 0.11)\n",
    "        # make a prediction on the test set\n",
    "        yhat = model.predict(X_test)\n",
    "        # round probabilities to class labels\n",
    "        max = yhat.max(axis=1).reshape(-1, 1)\n",
    "\n",
    "        res = np.where(yhat == max, 1, 0)\n",
    "\n",
    "        # calculate accuracy\n",
    "        acc = accuracy_score(y_test, res)\n",
    "\n",
    "        # store result\n",
    "        print('>%.3f' % acc)\n",
    "        results.append(acc)\n",
    "    return results"
   ]
  },
  {
   "cell_type": "markdown",
   "metadata": {},
   "source": [
    "I will compare three models to one another, a neural network, a random forest and XGBoost. For the creation and evalutaion of a neural network I have written a function that creates a network with one input layer, one hidden layer, one output layer and two dropout layers to prevent overfitting. Additionaly, I have added regularization to try to reduce the importance of the hour feature. The evaluation of all models is done with kFold cross-validation to try to avoid overfitting."
   ]
  },
  {
   "cell_type": "code",
   "execution_count": 296,
   "metadata": {},
   "outputs": [],
   "source": [
    "#kFold cross validation function with model training for other models.\n",
    "def kFold(X, y, model):\n",
    "    \"\"\"This function trains and evaluates a model using kFold cross-validation.\n",
    "\n",
    "    Args:\n",
    "        X (Array): _description_\n",
    "        y (Array): _description_\n",
    "        model (SKLearn model): A SKLearn model that will be used to train and evaluate\n",
    "\n",
    "    Returns:\n",
    "        List: The function returns a list of all the accuracies and auc-scores from the kFold cross-validation.\n",
    "    \"\"\"    \n",
    "    results = list()\n",
    "    cv = RepeatedKFold(n_splits=10, n_repeats=3, random_state = random_state)\n",
    "    # enumerate folds\n",
    "    for train_ix, test_ix in cv.split(X):\n",
    "        # prepare data\n",
    "        X_train, X_test = X[train_ix], X[test_ix]\n",
    "        y_train, y_test = y[train_ix], y[test_ix]\n",
    "        # define model\n",
    "        model = model\n",
    "        # fit model, using a validation split\n",
    "        model.fit(X_train, y_train)\n",
    "        # make a prediction on the test set\n",
    "        yhat = model.predict(X_test)\n",
    "        # compute evaluation metrics\n",
    "        acc = accuracy_score(y_test, yhat)\n",
    "\n",
    "        auc = roc_auc_score(y_test, model.predict_proba(X_test), multi_class='ovr')\n",
    "\n",
    "        results.append([acc, auc])\n",
    "    return results"
   ]
  },
  {
   "cell_type": "markdown",
   "metadata": {},
   "source": [
    "### Hyperparameter tuning"
   ]
  },
  {
   "cell_type": "code",
   "execution_count": null,
   "metadata": {},
   "outputs": [
    {
     "name": "stdout",
     "output_type": "stream",
     "text": [
      "Best Parameters: {'activation': 'tanh', 'batch_size': 256, 'dropout': 0.1, 'epochs': 100, 'optimizer': 'adam'}\n",
      "Best Accuracy: 0.6318800145057941\n"
     ]
    }
   ],
   "source": [
    "model = KerasClassifier(model=get_model, \n",
    "                        optimizer = 'adam', \n",
    "                        activation = 'relu', \n",
    "                        verbose=0,\n",
    "                        n_inputs = 18,\n",
    "                        n_outputs = 3, \n",
    "                        epochs=10, \n",
    "                        batch_size=32, \n",
    "                        dropout = 0.5)\n",
    "\n",
    "# Define the hyperparameters to tune\n",
    "param_grid = {\n",
    "    'optimizer': ['adam', 'sgd', 'rmsprop'],\n",
    "    'activation': ['relu', 'tanh'],\n",
    "    'batch_size': [64, 128, 256],\n",
    "    'epochs': [50, 80, 100],\n",
    "    'dropout': [0.2, 0,3, 0.4, 0.5]\n",
    "}\n",
    "\n",
    "grid = GridSearchCV(estimator=model, param_grid=param_grid, cv=10, error_score='raise', random_state = random_state)\n",
    "grid_result = grid.fit(X_train_oh, y)\n",
    "\n",
    "print(f\"Best Parameters: {grid_result.best_params_}\")\n",
    "print(f\"Best Accuracy: {grid_result.best_score_}\")"
   ]
  },
  {
   "cell_type": "code",
   "execution_count": 300,
   "metadata": {},
   "outputs": [
    {
     "name": "stdout",
     "output_type": "stream",
     "text": [
      "Best Parameters: {'bootstrap': True, 'max_depth': 10, 'min_samples_leaf': 1, 'min_samples_split': 10, 'n_estimators': 100}\n",
      "Best Accuracy: 0.628475033909746\n"
     ]
    }
   ],
   "source": [
    "param_grid = {'n_estimators': [10, 50, 100, 200],\n",
    "        'max_depth': [None, 10, 20, 30],\n",
    "        'min_samples_split': [2, 5, 10],\n",
    "        'min_samples_leaf': [1, 2, 4],\n",
    "        'bootstrap': [True, False]}\n",
    "\n",
    "rf = RandomForestClassifier()\n",
    "\n",
    "grid = GridSearchCV(estimator=rf, param_grid=param_grid, cv=3, n_jobs=-1, verbose=0)\n",
    "\n",
    "grid_result_rf = grid.fit(X_train_ord, y_train_ord)\n",
    "\n",
    "print(f\"Best Parameters: {grid_result_rf.best_params_}\")\n",
    "print(f\"Best Accuracy: {grid_result_rf.best_score_}\")"
   ]
  },
  {
   "cell_type": "code",
   "execution_count": 304,
   "metadata": {},
   "outputs": [
    {
     "name": "stderr",
     "output_type": "stream",
     "text": [
      "c:\\Users\\vanve\\Documents\\Code Projects\\PostNL_Assessment\\.conda\\Lib\\site-packages\\sklearn\\model_selection\\_search.py:1103: UserWarning: One or more of the test scores are non-finite: [nan nan nan ... nan nan nan]\n",
      "  warnings.warn(\n"
     ]
    },
    {
     "name": "stdout",
     "output_type": "stream",
     "text": [
      "Best Parameters: {'colsample_bytree': 0.3, 'gamma': 0.0, 'learning_rate': 0.05, 'max_depth': 3, 'min_child_weight': 1}\n",
      "Best AUC: nan\n"
     ]
    }
   ],
   "source": [
    "param_grid = {\"learning_rate\"    : [0.05, 0.10, 0.15, 0.20, 0.25, 0.30 ] ,\n",
    "        \"max_depth\"        : [ 3, 4, 5, 6, 8, 10, 12, 15],\n",
    "        \"min_child_weight\" : [ 1, 3, 5, 7 ],\n",
    "        \"gamma\"            : [ 0.0, 0.1, 0.2 , 0.3, 0.4 ],\n",
    "        \"colsample_bytree\" : [ 0.3, 0.4, 0.5 , 0.7 ] }\n",
    "\n",
    "XGB = XGBClassifier()\n",
    "\n",
    "grid = GridSearchCV(XGB, param_grid=param_grid, scoring='roc_auc', n_jobs=4, cv=3, verbose=0)\n",
    "\n",
    "grid_result_XGB = grid.fit(X_train_ord, y_train_ord)\n",
    "\n",
    "print(f\"Best Parameters: {grid_result_XGB.best_params_}\")\n",
    "print(f\"Best AUC: {grid_result_XGB.best_score_}\")"
   ]
  },
  {
   "cell_type": "markdown",
   "metadata": {},
   "source": [
    "To get the best accuracy for the models, I use hyperparameter tuning with GridSearchCV to find the optimal parameters from a list of combinations, which I use as parameters for the three models."
   ]
  },
  {
   "cell_type": "markdown",
   "metadata": {},
   "source": [
    "### Model training and evaluation"
   ]
  },
  {
   "cell_type": "code",
   "execution_count": 336,
   "metadata": {},
   "outputs": [
    {
     "name": "stdout",
     "output_type": "stream",
     "text": [
      "\u001b[1m157/157\u001b[0m \u001b[32m━━━━━━━━━━━━━━━━━━━━\u001b[0m\u001b[37m\u001b[0m \u001b[1m0s\u001b[0m 774us/step\n",
      ">0.640\n",
      "\u001b[1m157/157\u001b[0m \u001b[32m━━━━━━━━━━━━━━━━━━━━\u001b[0m\u001b[37m\u001b[0m \u001b[1m0s\u001b[0m 703us/step\n",
      ">0.649\n",
      "\u001b[1m157/157\u001b[0m \u001b[32m━━━━━━━━━━━━━━━━━━━━\u001b[0m\u001b[37m\u001b[0m \u001b[1m0s\u001b[0m 739us/step\n",
      ">0.627\n",
      "\u001b[1m157/157\u001b[0m \u001b[32m━━━━━━━━━━━━━━━━━━━━\u001b[0m\u001b[37m\u001b[0m \u001b[1m0s\u001b[0m 733us/step\n",
      ">0.634\n",
      "\u001b[1m157/157\u001b[0m \u001b[32m━━━━━━━━━━━━━━━━━━━━\u001b[0m\u001b[37m\u001b[0m \u001b[1m0s\u001b[0m 734us/step\n",
      ">0.627\n",
      "\u001b[1m157/157\u001b[0m \u001b[32m━━━━━━━━━━━━━━━━━━━━\u001b[0m\u001b[37m\u001b[0m \u001b[1m0s\u001b[0m 697us/step\n",
      ">0.632\n",
      "\u001b[1m157/157\u001b[0m \u001b[32m━━━━━━━━━━━━━━━━━━━━\u001b[0m\u001b[37m\u001b[0m \u001b[1m0s\u001b[0m 697us/step\n",
      ">0.637\n",
      "\u001b[1m157/157\u001b[0m \u001b[32m━━━━━━━━━━━━━━━━━━━━\u001b[0m\u001b[37m\u001b[0m \u001b[1m0s\u001b[0m 701us/step\n",
      ">0.629\n",
      "\u001b[1m157/157\u001b[0m \u001b[32m━━━━━━━━━━━━━━━━━━━━\u001b[0m\u001b[37m\u001b[0m \u001b[1m0s\u001b[0m 693us/step\n",
      ">0.637\n",
      "\u001b[1m157/157\u001b[0m \u001b[32m━━━━━━━━━━━━━━━━━━━━\u001b[0m\u001b[37m\u001b[0m \u001b[1m0s\u001b[0m 717us/step\n",
      ">0.625\n",
      "\u001b[1m157/157\u001b[0m \u001b[32m━━━━━━━━━━━━━━━━━━━━\u001b[0m\u001b[37m\u001b[0m \u001b[1m0s\u001b[0m 699us/step\n",
      ">0.641\n",
      "\u001b[1m157/157\u001b[0m \u001b[32m━━━━━━━━━━━━━━━━━━━━\u001b[0m\u001b[37m\u001b[0m \u001b[1m0s\u001b[0m 754us/step\n",
      ">0.627\n",
      "\u001b[1m157/157\u001b[0m \u001b[32m━━━━━━━━━━━━━━━━━━━━\u001b[0m\u001b[37m\u001b[0m \u001b[1m0s\u001b[0m 716us/step\n",
      ">0.629\n",
      "\u001b[1m157/157\u001b[0m \u001b[32m━━━━━━━━━━━━━━━━━━━━\u001b[0m\u001b[37m\u001b[0m \u001b[1m0s\u001b[0m 727us/step\n",
      ">0.646\n",
      "\u001b[1m157/157\u001b[0m \u001b[32m━━━━━━━━━━━━━━━━━━━━\u001b[0m\u001b[37m\u001b[0m \u001b[1m0s\u001b[0m 786us/step\n",
      ">0.626\n",
      "\u001b[1m157/157\u001b[0m \u001b[32m━━━━━━━━━━━━━━━━━━━━\u001b[0m\u001b[37m\u001b[0m \u001b[1m0s\u001b[0m 724us/step\n",
      ">0.637\n",
      "\u001b[1m157/157\u001b[0m \u001b[32m━━━━━━━━━━━━━━━━━━━━\u001b[0m\u001b[37m\u001b[0m \u001b[1m0s\u001b[0m 677us/step\n",
      ">0.623\n",
      "\u001b[1m157/157\u001b[0m \u001b[32m━━━━━━━━━━━━━━━━━━━━\u001b[0m\u001b[37m\u001b[0m \u001b[1m0s\u001b[0m 688us/step\n",
      ">0.636\n",
      "\u001b[1m157/157\u001b[0m \u001b[32m━━━━━━━━━━━━━━━━━━━━\u001b[0m\u001b[37m\u001b[0m \u001b[1m0s\u001b[0m 690us/step\n",
      ">0.637\n",
      "\u001b[1m157/157\u001b[0m \u001b[32m━━━━━━━━━━━━━━━━━━━━\u001b[0m\u001b[37m\u001b[0m \u001b[1m0s\u001b[0m 696us/step\n",
      ">0.631\n",
      "\u001b[1m157/157\u001b[0m \u001b[32m━━━━━━━━━━━━━━━━━━━━\u001b[0m\u001b[37m\u001b[0m \u001b[1m0s\u001b[0m 697us/step\n",
      ">0.629\n",
      "\u001b[1m157/157\u001b[0m \u001b[32m━━━━━━━━━━━━━━━━━━━━\u001b[0m\u001b[37m\u001b[0m \u001b[1m0s\u001b[0m 698us/step\n",
      ">0.646\n",
      "\u001b[1m157/157\u001b[0m \u001b[32m━━━━━━━━━━━━━━━━━━━━\u001b[0m\u001b[37m\u001b[0m \u001b[1m0s\u001b[0m 715us/step\n",
      ">0.638\n",
      "\u001b[1m157/157\u001b[0m \u001b[32m━━━━━━━━━━━━━━━━━━━━\u001b[0m\u001b[37m\u001b[0m \u001b[1m0s\u001b[0m 767us/step\n",
      ">0.633\n",
      "\u001b[1m157/157\u001b[0m \u001b[32m━━━━━━━━━━━━━━━━━━━━\u001b[0m\u001b[37m\u001b[0m \u001b[1m0s\u001b[0m 702us/step\n",
      ">0.641\n",
      "\u001b[1m157/157\u001b[0m \u001b[32m━━━━━━━━━━━━━━━━━━━━\u001b[0m\u001b[37m\u001b[0m \u001b[1m0s\u001b[0m 684us/step\n",
      ">0.634\n",
      "\u001b[1m157/157\u001b[0m \u001b[32m━━━━━━━━━━━━━━━━━━━━\u001b[0m\u001b[37m\u001b[0m \u001b[1m0s\u001b[0m 698us/step\n",
      ">0.638\n",
      "\u001b[1m157/157\u001b[0m \u001b[32m━━━━━━━━━━━━━━━━━━━━\u001b[0m\u001b[37m\u001b[0m \u001b[1m0s\u001b[0m 665us/step\n",
      ">0.631\n",
      "\u001b[1m157/157\u001b[0m \u001b[32m━━━━━━━━━━━━━━━━━━━━\u001b[0m\u001b[37m\u001b[0m \u001b[1m0s\u001b[0m 686us/step\n",
      ">0.621\n",
      "\u001b[1m157/157\u001b[0m \u001b[32m━━━━━━━━━━━━━━━━━━━━\u001b[0m\u001b[37m\u001b[0m \u001b[1m0s\u001b[0m 684us/step\n",
      ">0.625\n"
     ]
    }
   ],
   "source": [
    "# evaluate model\n",
    "result_ANN = evaluate_ANN_model(X_oh, y_oh, 'adam', 'tanh', 0.1)\n"
   ]
  },
  {
   "cell_type": "code",
   "execution_count": 306,
   "metadata": {},
   "outputs": [],
   "source": [
    "rf = RandomForestClassifier(**grid_result_rf.best_params_)\n",
    "\n",
    "result_rf = kFold(X_ord, y_ord, rf)\n"
   ]
  },
  {
   "cell_type": "code",
   "execution_count": 307,
   "metadata": {},
   "outputs": [],
   "source": [
    "XGB = XGBClassifier(objective='multi:softprob', **grid_result_XGB.best_params_)\n",
    "result_XGB = kFold(X_ord, y_ord, XGB)"
   ]
  },
  {
   "cell_type": "code",
   "execution_count": 320,
   "metadata": {},
   "outputs": [],
   "source": [
    "result_rf = np.array(result_rf)\n",
    "result_XGB = np.array(result_XGB)"
   ]
  },
  {
   "cell_type": "code",
   "execution_count": 337,
   "metadata": {},
   "outputs": [
    {
     "name": "stdout",
     "output_type": "stream",
     "text": [
      "Accuracy rf: 0.632 (0.007) AUC XGB: 0.740 (0.004)\n",
      "Accuracy XGB: 0.634 (0.007) AUC XGB: 0.743 (0.004)\n",
      "Accuracy ANN: 0.634 (0.007)\n"
     ]
    }
   ],
   "source": [
    "print('Accuracy rf: %.3f (%.3f) AUC XGB: %.3f (%.3f)' % (np.mean(result_rf[:, 0]), np.std(result_rf[:, 0]), np.mean(result_rf[:, 1]), np.std(result_rf[:, 1])))\n",
    "print('Accuracy XGB: %.3f (%.3f) AUC XGB: %.3f (%.3f)' % (np.mean(result_XGB[:, 0]), np.std(result_XGB[:, 0]), np.mean(result_XGB[:, 1]), np.std(result_XGB[:, 1])))\n",
    "print('Accuracy ANN: %.3f (%.3f)' % (np.mean(result_ANN), np.std(result_ANN)))"
   ]
  },
  {
   "cell_type": "markdown",
   "metadata": {},
   "source": [
    "For evaluation of the models I use the accuracy metric for the neural net and accuracy and roc-auc for the random forest and XGBoost. All models give similar results for the prediction of the time_delivery_window.\n",
    "- Accuracy ANN: $0.634 (\\pm 0.006)$\n",
    "- Accuracy rf: $0.632 (\\pm 0.007)$ AUC rf: $0.740 (\\pm 0.004)$\n",
    "- Accuracy XGB: $0.634 (\\pm 0.007)$ AUC XGB: $0.743 (\\pm 0.004)$\n",
    "\n",
    "I tried multiple parameter combinations, different selections of features and different models, but all give an extremely high feature importance to the hour feature. This ofcourse highly correlates with the delivery window but causes the other features to lose a lot of impact."
   ]
  }
 ],
 "metadata": {
  "kernelspec": {
   "display_name": "Python 3",
   "language": "python",
   "name": "python3"
  },
  "language_info": {
   "codemirror_mode": {
    "name": "ipython",
    "version": 3
   },
   "file_extension": ".py",
   "mimetype": "text/x-python",
   "name": "python",
   "nbconvert_exporter": "python",
   "pygments_lexer": "ipython3",
   "version": "3.12.5"
  }
 },
 "nbformat": 4,
 "nbformat_minor": 2
}
