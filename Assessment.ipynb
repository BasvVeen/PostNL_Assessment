{
 "cells": [
  {
   "cell_type": "markdown",
   "metadata": {},
   "source": [
    "### Importing packages"
   ]
  },
  {
   "cell_type": "code",
   "execution_count": 1,
   "metadata": {},
   "outputs": [],
   "source": [
    "import numpy as np\n",
    "import pandas as pd\n",
    "import matplotlib.pyplot as plt\n",
    "import seaborn as sns"
   ]
  },
  {
   "cell_type": "markdown",
   "metadata": {},
   "source": [
    "### Exploratory Data Analysis"
   ]
  },
  {
   "cell_type": "code",
   "execution_count": 25,
   "metadata": {},
   "outputs": [
    {
     "data": {
      "text/html": [
       "<div>\n",
       "<style scoped>\n",
       "    .dataframe tbody tr th:only-of-type {\n",
       "        vertical-align: middle;\n",
       "    }\n",
       "\n",
       "    .dataframe tbody tr th {\n",
       "        vertical-align: top;\n",
       "    }\n",
       "\n",
       "    .dataframe thead th {\n",
       "        text-align: right;\n",
       "    }\n",
       "</style>\n",
       "<table border=\"1\" class=\"dataframe\">\n",
       "  <thead>\n",
       "    <tr style=\"text-align: right;\">\n",
       "      <th></th>\n",
       "      <th>parcel_id</th>\n",
       "      <th>shipment_date</th>\n",
       "      <th>is_weekend</th>\n",
       "      <th>hour</th>\n",
       "      <th>distance_km</th>\n",
       "      <th>parcel_size</th>\n",
       "      <th>parcel_weight_kg</th>\n",
       "      <th>traffic_level</th>\n",
       "      <th>weather_condition</th>\n",
       "      <th>delivery_time_window</th>\n",
       "    </tr>\n",
       "  </thead>\n",
       "  <tbody>\n",
       "    <tr>\n",
       "      <th>0</th>\n",
       "      <td>1</td>\n",
       "      <td>2024-04-17</td>\n",
       "      <td>0</td>\n",
       "      <td>14</td>\n",
       "      <td>38.079472</td>\n",
       "      <td>small</td>\n",
       "      <td>3.330077</td>\n",
       "      <td>low</td>\n",
       "      <td>foggy</td>\n",
       "      <td>afternoon</td>\n",
       "    </tr>\n",
       "    <tr>\n",
       "      <th>1</th>\n",
       "      <td>2</td>\n",
       "      <td>2024-07-07</td>\n",
       "      <td>1</td>\n",
       "      <td>14</td>\n",
       "      <td>95.120716</td>\n",
       "      <td>medium</td>\n",
       "      <td>0.675873</td>\n",
       "      <td>low</td>\n",
       "      <td>rainy</td>\n",
       "      <td>afternoon</td>\n",
       "    </tr>\n",
       "    <tr>\n",
       "      <th>2</th>\n",
       "      <td>3</td>\n",
       "      <td>2024-03-27</td>\n",
       "      <td>0</td>\n",
       "      <td>14</td>\n",
       "      <td>73.467400</td>\n",
       "      <td>medium</td>\n",
       "      <td>45.398848</td>\n",
       "      <td>high</td>\n",
       "      <td>sunny</td>\n",
       "      <td>evening</td>\n",
       "    </tr>\n",
       "    <tr>\n",
       "      <th>3</th>\n",
       "      <td>4</td>\n",
       "      <td>2024-04-29</td>\n",
       "      <td>0</td>\n",
       "      <td>14</td>\n",
       "      <td>60.267190</td>\n",
       "      <td>medium</td>\n",
       "      <td>28.637023</td>\n",
       "      <td>low</td>\n",
       "      <td>sunny</td>\n",
       "      <td>evening</td>\n",
       "    </tr>\n",
       "    <tr>\n",
       "      <th>4</th>\n",
       "      <td>5</td>\n",
       "      <td>2024-06-06</td>\n",
       "      <td>0</td>\n",
       "      <td>9</td>\n",
       "      <td>16.445845</td>\n",
       "      <td>small</td>\n",
       "      <td>9.344217</td>\n",
       "      <td>high</td>\n",
       "      <td>snowy</td>\n",
       "      <td>evening</td>\n",
       "    </tr>\n",
       "  </tbody>\n",
       "</table>\n",
       "</div>"
      ],
      "text/plain": [
       "   parcel_id shipment_date  is_weekend  hour  distance_km parcel_size  \\\n",
       "0          1    2024-04-17           0    14    38.079472       small   \n",
       "1          2    2024-07-07           1    14    95.120716      medium   \n",
       "2          3    2024-03-27           0    14    73.467400      medium   \n",
       "3          4    2024-04-29           0    14    60.267190      medium   \n",
       "4          5    2024-06-06           0     9    16.445845       small   \n",
       "\n",
       "   parcel_weight_kg traffic_level weather_condition delivery_time_window  \n",
       "0          3.330077           low             foggy            afternoon  \n",
       "1          0.675873           low             rainy            afternoon  \n",
       "2         45.398848          high             sunny              evening  \n",
       "3         28.637023           low             sunny              evening  \n",
       "4          9.344217          high             snowy              evening  "
      ]
     },
     "execution_count": 25,
     "metadata": {},
     "output_type": "execute_result"
    }
   ],
   "source": [
    "delivery_data = pd.read_csv(\"parcel_delivery_dataset.csv\")\n",
    "\n",
    "delivery_data.head()"
   ]
  },
  {
   "cell_type": "code",
   "execution_count": 26,
   "metadata": {},
   "outputs": [
    {
     "data": {
      "text/plain": [
       "parcel_id                 int64\n",
       "shipment_date            object\n",
       "is_weekend                int64\n",
       "hour                      int64\n",
       "distance_km             float64\n",
       "parcel_size              object\n",
       "parcel_weight_kg        float64\n",
       "traffic_level            object\n",
       "weather_condition        object\n",
       "delivery_time_window     object\n",
       "dtype: object"
      ]
     },
     "execution_count": 26,
     "metadata": {},
     "output_type": "execute_result"
    }
   ],
   "source": [
    "delivery_data.dtypes"
   ]
  },
  {
   "cell_type": "code",
   "execution_count": 27,
   "metadata": {},
   "outputs": [
    {
     "name": "stdout",
     "output_type": "stream",
     "text": [
      "There are 0 duplicate rows.\n"
     ]
    }
   ],
   "source": [
    "duplicate_rows = delivery_data[delivery_data.duplicated()]\n",
    "\n",
    "print(f\"There are {duplicate_rows.shape[0]} duplicate rows.\")"
   ]
  },
  {
   "cell_type": "code",
   "execution_count": 28,
   "metadata": {},
   "outputs": [
    {
     "data": {
      "text/plain": [
       "parcel_id               0\n",
       "shipment_date           0\n",
       "is_weekend              0\n",
       "hour                    0\n",
       "distance_km             0\n",
       "parcel_size             0\n",
       "parcel_weight_kg        0\n",
       "traffic_level           0\n",
       "weather_condition       0\n",
       "delivery_time_window    0\n",
       "dtype: int64"
      ]
     },
     "execution_count": 28,
     "metadata": {},
     "output_type": "execute_result"
    }
   ],
   "source": [
    "rows_with_nulls = delivery_data.isnull().sum()\n",
    "rows_with_nulls"
   ]
  },
  {
   "cell_type": "markdown",
   "metadata": {},
   "source": [
    "So there are no duplicate rows in the dataset and no rows containing any NaN or Null values."
   ]
  },
  {
   "cell_type": "code",
   "execution_count": null,
   "metadata": {},
   "outputs": [],
   "source": []
  }
 ],
 "metadata": {
  "kernelspec": {
   "display_name": "Python 3",
   "language": "python",
   "name": "python3"
  },
  "language_info": {
   "codemirror_mode": {
    "name": "ipython",
    "version": 3
   },
   "file_extension": ".py",
   "mimetype": "text/x-python",
   "name": "python",
   "nbconvert_exporter": "python",
   "pygments_lexer": "ipython3",
   "version": "3.12.5"
  }
 },
 "nbformat": 4,
 "nbformat_minor": 2
}
