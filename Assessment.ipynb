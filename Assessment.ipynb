{
 "cells": [
  {
   "cell_type": "markdown",
   "metadata": {},
   "source": [
    "### Importing packages"
   ]
  },
  {
   "cell_type": "code",
   "execution_count": 166,
   "metadata": {},
   "outputs": [
    {
     "name": "stdout",
     "output_type": "stream",
     "text": [
      "Libraries Imported\n"
     ]
    }
   ],
   "source": [
    "import numpy as np\n",
    "import pandas as pd\n",
    "import matplotlib.pyplot as plt\n",
    "import seaborn as sns\n",
    "from sklearn.model_selection import train_test_split\n",
    "from sklearn.metrics import accuracy_score, roc_auc_score\n",
    "from sklearn.preprocessing import OrdinalEncoder, StandardScaler, OneHotEncoder, LabelBinarizer\n",
    "from sklearn.ensemble import RandomForestClassifier\n",
    "from sklearn.model_selection import GridSearchCV, RepeatedKFold\n",
    "from sklearn.feature_selection import SelectKBest, chi2\n",
    "from keras import Sequential\n",
    "from keras.layers import Dense, Dropout, Input\n",
    "from xgboost import XGBClassifier\n",
    "from scikeras.wrappers import KerasClassifier\n",
    "from sklearn.inspection import permutation_importance\n",
    "from sklearn.linear_model import LogisticRegression\n",
    "from sklearn.multiclass import OneVsRestClassifier\n",
    "print('Libraries Imported')"
   ]
  },
  {
   "cell_type": "markdown",
   "metadata": {},
   "source": [
    "### Exploratory Data Analysis"
   ]
  },
  {
   "cell_type": "code",
   "execution_count": 167,
   "metadata": {},
   "outputs": [],
   "source": [
    "delivery_data = pd.read_csv(\"parcel_delivery_dataset.csv\")\n",
    "\n",
    "y_col = 'delivery_time_window'\n",
    "\n",
    "delivery_data.head()\n",
    "\n",
    "\n",
    "delivery_data.hour = delivery_data.hour.replace([6,7,8,9,10,11], 'morning')\n",
    "delivery_data.hour = delivery_data.hour.replace([12, 13, 14 ,15, 16, 17], 'afternoon')\n",
    "delivery_data.hour = delivery_data.hour.replace([18, 19, 20, 21, 22, 23], 'evening')"
   ]
  },
  {
   "cell_type": "code",
   "execution_count": 168,
   "metadata": {},
   "outputs": [
    {
     "data": {
      "text/plain": [
       "parcel_id                 int64\n",
       "shipment_date            object\n",
       "is_weekend                int64\n",
       "hour                     object\n",
       "distance_km             float64\n",
       "parcel_size              object\n",
       "parcel_weight_kg        float64\n",
       "traffic_level            object\n",
       "weather_condition        object\n",
       "delivery_time_window     object\n",
       "dtype: object"
      ]
     },
     "execution_count": 168,
     "metadata": {},
     "output_type": "execute_result"
    }
   ],
   "source": [
    "delivery_data.dtypes"
   ]
  },
  {
   "cell_type": "code",
   "execution_count": 169,
   "metadata": {},
   "outputs": [
    {
     "name": "stdout",
     "output_type": "stream",
     "text": [
      "There are 0 duplicate rows.\n"
     ]
    }
   ],
   "source": [
    "duplicate_rows = delivery_data[delivery_data.duplicated()]\n",
    "\n",
    "print(f\"There are {duplicate_rows.shape[0]} duplicate rows.\")"
   ]
  },
  {
   "cell_type": "code",
   "execution_count": 170,
   "metadata": {},
   "outputs": [
    {
     "name": "stdout",
     "output_type": "stream",
     "text": [
      "parcel_id               0\n",
      "shipment_date           0\n",
      "is_weekend              0\n",
      "hour                    0\n",
      "distance_km             0\n",
      "parcel_size             0\n",
      "parcel_weight_kg        0\n",
      "traffic_level           0\n",
      "weather_condition       0\n",
      "delivery_time_window    0\n",
      "dtype: int64\n"
     ]
    }
   ],
   "source": [
    "rows_with_nulls = delivery_data.isnull().sum()\n",
    "print(rows_with_nulls)"
   ]
  },
  {
   "cell_type": "markdown",
   "metadata": {},
   "source": [
    "So there are no duplicate rows in the dataset and no rows containing any NaN or Null values."
   ]
  },
  {
   "cell_type": "code",
   "execution_count": 171,
   "metadata": {},
   "outputs": [
    {
     "data": {
      "text/plain": [
       "parcel_id               50000\n",
       "shipment_date             366\n",
       "is_weekend                  2\n",
       "hour                        3\n",
       "distance_km             50000\n",
       "parcel_size                 3\n",
       "parcel_weight_kg        50000\n",
       "traffic_level               3\n",
       "weather_condition           4\n",
       "delivery_time_window        3\n",
       "dtype: int64"
      ]
     },
     "execution_count": 171,
     "metadata": {},
     "output_type": "execute_result"
    }
   ],
   "source": [
    "delivery_data.nunique()"
   ]
  },
  {
   "cell_type": "markdown",
   "metadata": {},
   "source": [
    "There are exactly the amount of values for the object dtype columns as you would expect (3, 3, 4 and 3), meaning there are no misspellings of categories. "
   ]
  },
  {
   "cell_type": "code",
   "execution_count": 172,
   "metadata": {},
   "outputs": [
    {
     "data": {
      "text/html": [
       "<div>\n",
       "<style scoped>\n",
       "    .dataframe tbody tr th:only-of-type {\n",
       "        vertical-align: middle;\n",
       "    }\n",
       "\n",
       "    .dataframe tbody tr th {\n",
       "        vertical-align: top;\n",
       "    }\n",
       "\n",
       "    .dataframe thead th {\n",
       "        text-align: right;\n",
       "    }\n",
       "</style>\n",
       "<table border=\"1\" class=\"dataframe\">\n",
       "  <thead>\n",
       "    <tr style=\"text-align: right;\">\n",
       "      <th></th>\n",
       "      <th>count</th>\n",
       "      <th>mean</th>\n",
       "      <th>std</th>\n",
       "      <th>min</th>\n",
       "      <th>25%</th>\n",
       "      <th>50%</th>\n",
       "      <th>75%</th>\n",
       "      <th>max</th>\n",
       "    </tr>\n",
       "  </thead>\n",
       "  <tbody>\n",
       "    <tr>\n",
       "      <th>is_weekend</th>\n",
       "      <td>50000.0</td>\n",
       "      <td>0.284080</td>\n",
       "      <td>0.450980</td>\n",
       "      <td>0.000000</td>\n",
       "      <td>0.000000</td>\n",
       "      <td>0.000000</td>\n",
       "      <td>1.000000</td>\n",
       "      <td>1.000000</td>\n",
       "    </tr>\n",
       "    <tr>\n",
       "      <th>distance_km</th>\n",
       "      <td>50000.0</td>\n",
       "      <td>50.387477</td>\n",
       "      <td>28.552232</td>\n",
       "      <td>1.000548</td>\n",
       "      <td>25.642078</td>\n",
       "      <td>50.390299</td>\n",
       "      <td>75.081838</td>\n",
       "      <td>99.997243</td>\n",
       "    </tr>\n",
       "    <tr>\n",
       "      <th>parcel_weight_kg</th>\n",
       "      <td>50000.0</td>\n",
       "      <td>25.210404</td>\n",
       "      <td>14.273970</td>\n",
       "      <td>0.500780</td>\n",
       "      <td>12.798958</td>\n",
       "      <td>25.230957</td>\n",
       "      <td>37.450028</td>\n",
       "      <td>49.996822</td>\n",
       "    </tr>\n",
       "  </tbody>\n",
       "</table>\n",
       "</div>"
      ],
      "text/plain": [
       "                    count       mean        std       min        25%  \\\n",
       "is_weekend        50000.0   0.284080   0.450980  0.000000   0.000000   \n",
       "distance_km       50000.0  50.387477  28.552232  1.000548  25.642078   \n",
       "parcel_weight_kg  50000.0  25.210404  14.273970  0.500780  12.798958   \n",
       "\n",
       "                        50%        75%        max  \n",
       "is_weekend         0.000000   1.000000   1.000000  \n",
       "distance_km       50.390299  75.081838  99.997243  \n",
       "parcel_weight_kg  25.230957  37.450028  49.996822  "
      ]
     },
     "execution_count": 172,
     "metadata": {},
     "output_type": "execute_result"
    }
   ],
   "source": [
    "delivery_data = delivery_data.drop(['parcel_id'], axis = 1)\n",
    "\n",
    "delivery_data.describe().T"
   ]
  },
  {
   "cell_type": "code",
   "execution_count": 173,
   "metadata": {},
   "outputs": [],
   "source": [
    "#pairplot maken met ordinal scale en correlatie toevoegen werkt niet want allemaal categorisch\n",
    "# traffic level naar numeriek"
   ]
  },
  {
   "cell_type": "markdown",
   "metadata": {},
   "source": [
    "Remove parcel_id, as I assume it has no predictive power for the delivery window."
   ]
  },
  {
   "cell_type": "code",
   "execution_count": 174,
   "metadata": {},
   "outputs": [],
   "source": [
    "cat_cols=delivery_data.select_dtypes(include=['object']).columns\n",
    "num_cols = delivery_data.select_dtypes(include=np.number).columns.tolist()"
   ]
  },
  {
   "cell_type": "code",
   "execution_count": 175,
   "metadata": {},
   "outputs": [
    {
     "name": "stdout",
     "output_type": "stream",
     "text": [
      "is_weekend\n",
      "Skew : 0.96\n"
     ]
    },
    {
     "data": {
      "image/png": "[encoded data removed]",
      "text/plain": [
       "<Figure size 1200x400 with 2 Axes>"
      ]
     },
     "metadata": {},
     "output_type": "display_data"
    },
    {
     "name": "stdout",
     "output_type": "stream",
     "text": [
      "distance_km\n",
      "Skew : 0.01\n"
     ]
    },
    {
     "data": {
      "image/png": "[encoded data removed]",
      "text/plain": [
       "<Figure size 1200x400 with 2 Axes>"
      ]
     },
     "metadata": {},
     "output_type": "display_data"
    },
    {
     "name": "stdout",
     "output_type": "stream",
     "text": [
      "parcel_weight_kg\n",
      "Skew : -0.0\n"
     ]
    },
    {
     "data": {
      "image/png": "[encoded data removed]",
      "text/plain": [
       "<Figure size 1200x400 with 2 Axes>"
      ]
     },
     "metadata": {},
     "output_type": "display_data"
    }
   ],
   "source": [
    "for col in num_cols:\n",
    "    print(col)\n",
    "    print('Skew :', round(delivery_data[col].skew(), 2))\n",
    "    plt.figure(figsize = (12, 4))\n",
    "    plt.subplot(1, 2, 1)\n",
    "    delivery_data[col].hist(grid=False)\n",
    "    plt.ylabel('count')\n",
    "    plt.xlabel(col)\n",
    "    plt.subplot(1, 2, 2)\n",
    "    sns.boxplot(x=delivery_data[col])\n",
    "    plt.show()"
   ]
  },
  {
   "cell_type": "markdown",
   "metadata": {},
   "source": [
    "As is evident from the plots, there is about an equal amount of examples for the distance_km and parcel_weight values. is_weekend is skewed to the 0 (week days), which makes sense as there are both more weekdays and more packages get send during the week. The expected delivery hour peaks at ~9, 15 and 19/20, with few packages being delivered after 18. 9 and 15 are the mean hours from the delivery windows, so it makes sense that those are the most prevalent times. Fewer packages get delivered in the evening."
   ]
  },
  {
   "cell_type": "code",
   "execution_count": 176,
   "metadata": {},
   "outputs": [
    {
     "data": {
      "image/png": "[encoded data removed]",
      "text/plain": [
       "<Figure size 1800x1000 with 6 Axes>"
      ]
     },
     "metadata": {},
     "output_type": "display_data"
    }
   ],
   "source": [
    "fig, axes = plt.subplots(2, 3, figsize = (18, 10))\n",
    "axes[1][2].set_visible(False)\n",
    "fig.suptitle('Bar plot for all categorical variables in the dataset')\n",
    "for ax, col in zip(axes.ravel(), cat_cols[1:]):\n",
    "    sns.countplot(ax = ax, x = col, data = delivery_data, color = 'blue', order = delivery_data[col].value_counts().index)\n",
    "    ax.set_xlabel(col)\n",
    "\n"
   ]
  },
  {
   "cell_type": "code",
   "execution_count": 177,
   "metadata": {},
   "outputs": [
    {
     "data": {
      "text/plain": [
       "<Axes: xlabel='hour', ylabel='proportion'>"
      ]
     },
     "execution_count": 177,
     "metadata": {},
     "output_type": "execute_result"
    },
    {
     "data": {
      "image/png": "[encoded data removed]",
      "text/plain": [
       "<Figure size 640x480 with 1 Axes>"
      ]
     },
     "metadata": {},
     "output_type": "display_data"
    }
   ],
   "source": [
    "sns.countplot(x=\"hour\", hue=\"delivery_time_window\", data=delivery_data, stat = \"proportion\")"
   ]
  },
  {
   "cell_type": "markdown",
   "metadata": {},
   "source": [
    "### Feature engineering and feature selection"
   ]
  },
  {
   "cell_type": "code",
   "execution_count": 178,
   "metadata": {},
   "outputs": [],
   "source": [
    "def get_season(date):\n",
    "  m = date.month\n",
    "  x = m%12 // 3 + 1\n",
    "  if x == 1:\n",
    "    season = \"Winter\"\n",
    "  if x == 2:\n",
    "    season = \"Spring\"\n",
    "  if x == 3:\n",
    "    season = \"Summer\"\n",
    "  if x == 4:\n",
    "    season = \"Autumn\"\n",
    "  return season\n",
    "\n",
    "delivery_data.insert(len(delivery_data.columns)-1, 'season', pd.to_datetime(delivery_data['shipment_date'], format = '%Y-%m-%d'))\n",
    "\n",
    "delivery_data['season'] = delivery_data['season'].apply(get_season)\n",
    "\n",
    "delivery_data = delivery_data.drop(['shipment_date'], axis = 1)\n"
   ]
  },
  {
   "cell_type": "markdown",
   "metadata": {},
   "source": [
    "Create a new column called 'season' from the shipment_date column. Season could be a good feature to predict the delivery_time_window."
   ]
  },
  {
   "cell_type": "code",
   "execution_count": 179,
   "metadata": {},
   "outputs": [],
   "source": [
    "def get_features(data, nr_features : int = 5):\n",
    "\n",
    "\n",
    "    #Initialize the classifier and the encoder, as it cannot handle categorical data\n",
    "    fs = SelectKBest(score_func=chi2, k=5)\n",
    "\n",
    "    encoder = OrdinalEncoder()\n",
    "\n",
    "    #Selecting columns used to make a selection later\n",
    "    cat_cols=data.select_dtypes(include=['object']).columns\n",
    "\n",
    "    X_cols = data.iloc[:, :-1].columns\n",
    "    \n",
    "    encoder.fit(data[cat_cols])\n",
    "\n",
    "    #Create copy of data to encode and train the classifier with\n",
    "\n",
    "    place_holder = data.copy(deep = True)\n",
    "\n",
    "    #Encode the categorical columns of the copy and split into X and y training and test sets\n",
    "    place_holder[cat_cols] = encoder.transform(place_holder[cat_cols])\n",
    "\n",
    "    X = place_holder.iloc[:, :-1].values\n",
    "\n",
    "    y = place_holder.iloc[:, -1].values\n",
    "\n",
    "    X_train, X_test, y_train, y_test = train_test_split(X, y, test_size = 0.2, random_state = 21)\n",
    "\n",
    "    #Train the classifier\n",
    "    fs.fit(X_train, y_train)\n",
    "\n",
    "    #Create mask for most important features and add them to a list\n",
    "    mask = fs.get_support()\n",
    "    new_features = []\n",
    "\n",
    "    for bool_val, feature in zip(mask, X_cols):\n",
    "        if bool_val:\n",
    "            new_features.append(feature)\n",
    "\n",
    "    new_features.append(y_col)\n",
    "\n",
    "    return data[new_features]\n",
    "\n",
    "delivery_data_fs = get_features(delivery_data)"
   ]
  },
  {
   "cell_type": "markdown",
   "metadata": {},
   "source": [
    "So the important features seem to be is_weekend, hour, distance_km, traffic_level and weather_condition."
   ]
  },
  {
   "cell_type": "markdown",
   "metadata": {},
   "source": [
    "### Encoding the data"
   ]
  },
  {
   "cell_type": "code",
   "execution_count": null,
   "metadata": {},
   "outputs": [],
   "source": [
    "def one_hot_encode__data(data):\n",
    "    \"\"\"This function encodes categorical data by use of one-hot encoding, so it can be used by the sklearn models.\n",
    "\n",
    "    Args:\n",
    "        data (dataframe): All the data that will be used for training and evaluation, both numerical and categorical\n",
    "\n",
    "    Returns:\n",
    "        Array : The function returns all the numerical data, with the categorical data one-hot encoded.\n",
    "    \"\"\"       \n",
    "    #Get the categorical columns and data\n",
    "\n",
    "    cat_cols=data.select_dtypes(include=['object']).columns\n",
    "    # data_cat = data[cat_cols]\n",
    "    test = data.copy(deep = True)\n",
    "    #Get the X and y data\n",
    "    \n",
    "    # X = data_cat.iloc[:, :-1]\n",
    "    # cat_col_X = X.select_dtypes(include=['object']).columns\n",
    "\n",
    "    # y = data_cat.iloc[:, -1]\n",
    "\n",
    "    #Define the encoders\n",
    "\n",
    "    one_hot = OneHotEncoder(sparse_output=False)\n",
    "\n",
    "    label_bin = LabelBinarizer(sparse_output=False)\n",
    "\n",
    "    #Fit the encoders and transform the data in one-hot format.\n",
    "\n",
    "    hoi = data[cat_cols]\n",
    "\n",
    "    oh_enc = one_hot.fit_transform(data[cat_cols])\n",
    "\n",
    "    # data = pd.DataFrame(hoi2, columns = one_hot.get_feature_names_out(cat_cols))\n",
    "    \n",
    "    num_data = data.loc[:, ~data.columns.isin(cat_cols)].values\n",
    "    \n",
    "    all_data = np.concatenate((num_data, oh_enc), axis = 1)\n",
    "    \n",
    "    #Encode all the categorical features and split in X and y arrays\n",
    "\n",
    "    # data[cat_cols] = one_hot.transform(data[cat_cols])\n",
    "\n",
    "    y = all_data[:, -3:]\n",
    "    \n",
    "    X = all_data[:, :-3]\n",
    "    \n",
    "    return X, y\n",
    "\n",
    "def ordinal_encode_data(data):\n",
    "    \"\"\"This function encodes categorical data by use of ordinal encoding, so it can be used by the sklearn models.\n",
    "\n",
    "    Args:\n",
    "        data (dataframe): All the data that will be used for training and evaluation, both numerical and categorical\n",
    "\n",
    "    Returns:\n",
    "        Array : The function returns all the numerical data, with the categorical data ordinal encoded.\n",
    "    \"\"\"   \n",
    "\n",
    "    #Get the categorical columns and data\n",
    "\n",
    "    cat_cols=data.select_dtypes(include=['object']).columns\n",
    "    data_cat = data[cat_cols]\n",
    "\n",
    "    #Define the encoders\n",
    "\n",
    "    ord_enc = OrdinalEncoder()\n",
    "\n",
    "    #Fit the encoders and transform the data in one-hot format.\n",
    "\n",
    "    ord_enc.fit_transform(data[cat_cols])\n",
    "\n",
    "    #Encode all the categorical features and split in X and y arrays\n",
    "\n",
    "    data[cat_cols] = ord_enc.transform(data[cat_cols])\n",
    "\n",
    "    y = delivery_data_fs.iloc[:, -1].values\n",
    "\n",
    "    X = delivery_data_fs.iloc[:, :-1].values\n",
    "\n",
    "    return X, y\n",
    "\n",
    "X_oh, y_oh = one_hot_encode__data(delivery_data_fs)\n",
    "\n",
    "X_ord, y_ord = ordinal_encode_data(delivery_data_fs)"
   ]
  },
  {
   "cell_type": "markdown",
   "metadata": {},
   "source": [
    "### Creating the neural network and Random Forest"
   ]
  },
  {
   "cell_type": "code",
   "execution_count": 243,
   "metadata": {},
   "outputs": [],
   "source": [
    "# Create the neural network\n",
    "def get_model(n_inputs : int, n_outputs : int, optimizer : str = 'adam', activation : str = 'relu', dropout : float = 0.5):\n",
    "   \"\"\"This function generates a neural network using the keras library.\n",
    "\n",
    "   Args:\n",
    "       n_inputs (int): The number of input features.\n",
    "       n_outputs (int): The number of output features.\n",
    "       optimizer (str, optional): The optimizer used by the compiler. Defaults to 'adam'.\n",
    "       activation (str, optional): The activation function used by the layers in the neural network. Defaults to 'relu'.\n",
    "       dropout (float, optional): The dropout probability of the dropout layer. Defaults to 0.5.\n",
    "\n",
    "   Returns:\n",
    "       model: Returns a neural network model with 5 layers, of which two dropout and two hidden layer. \n",
    "   \"\"\"   \n",
    "   model = Sequential()\n",
    "   model.add(Input(shape=(n_inputs,)))\n",
    "   model.add(Dense(n_inputs, kernel_initializer='he_uniform', activation = activation))\n",
    "   model.add(Dropout(dropout))\n",
    "   model.add(Dense(32, activation = activation))\n",
    "   model.add(Dropout(dropout))\n",
    "   model.add(Dense(n_outputs, activation='sigmoid'))\n",
    "\n",
    "   #compile the model\n",
    "   model.compile(loss='categorical_crossentropy', optimizer=optimizer, metrics = ['accuracy'])\n",
    "   return model\n",
    " \n",
    "# evaluate a model using repeated k-fold cross-validation\n",
    "def evaluate_ANN_model(X, y, optimizer : str = 'adam', activation : str = 'relu', dropout : float = 0.1):\n",
    "    \"\"\"This function evaluates a model, using kfold cross-validation and returns the accuracy of the predictions.\n",
    "\n",
    "    Args:\n",
    "        X (numpy array): The feature data with which y is predicted, with the categorical variables in one-hot encoded format. \n",
    "        y (numpy array): The target variable that is to be predicted, in one-hot encoded format.\n",
    "        optimizer (str, optional): Optimizer used for the neural network. Defaults to 'adam'.\n",
    "        activation (str, optional): Activation function used for the network layers. Defaults to 'relu'.\n",
    "        dropout (float, optional): Dropout probability of nodes in the network. Defaults to 0.5.\n",
    "\n",
    "    Returns:\n",
    "        List of accuracy and auc scores: The function returns a list of all accuracy scores obtained from the model training.\n",
    "    \"\"\" \n",
    "    results = list()\n",
    "    n_inputs, n_outputs = X.shape[1], y.shape[1]\n",
    "    # define evaluation procedure\n",
    "    cv = RepeatedKFold(n_splits=10, n_repeats=3, random_state = 1)\n",
    "    # enumerate folds\n",
    "    for train_ix, test_ix in cv.split(X):\n",
    "        # prepare data\n",
    "        X_train, X_test = X[train_ix], X[test_ix]\n",
    "        y_train, y_test = y[train_ix], y[test_ix]\n",
    "        # define model\n",
    "        model = get_model(n_inputs, n_outputs, optimizer, activation, dropout)\n",
    "        # fit model, using a validation split\n",
    "        model.fit(X_train, y_train, verbose=0, batch_size = 64, epochs=100, validation_split = 0.11)\n",
    "        # make a prediction on the test set\n",
    "        yhat = model.predict(X_test)\n",
    "        # round probabilities to class labels\n",
    "        max = yhat.max(axis=1).reshape(-1, 1)\n",
    "\n",
    "        res = np.where(yhat == max, 1, 0)\n",
    "        # calculate accuracy and auc\n",
    "        acc = accuracy_score(y_test, res)\n",
    "\n",
    "        auc = roc_auc_score(y_test, model.predict_proba(X_test), multi_class='ovr')\n",
    "\n",
    "        # store result\n",
    "        print('>%.3f' % acc + '>%.3f' % auc)\n",
    "        results.append([acc, auc])\n",
    "    return results"
   ]
  },
  {
   "cell_type": "code",
   "execution_count": null,
   "metadata": {},
   "outputs": [],
   "source": [
    "#kFold cross validation function with model training for other models.\n",
    "def kFold(X, y, model):\n",
    "    \"\"\"This function trains and evaluates a model using kFold cross-validation.\n",
    "\n",
    "    Args:\n",
    "        X (Array): _description_\n",
    "        y (Array): _description_\n",
    "        model (SKLearn model): _description_\n",
    "\n",
    "    Returns:\n",
    "        List: The function returns a list of all the accuracies and auc-scores from the kFold cross-validation.\n",
    "    \"\"\"    \n",
    "    results = list()\n",
    "    cv = RepeatedKFold(n_splits=10, n_repeats=3, random_state = 1)\n",
    "    # enumerate folds\n",
    "    for train_ix, test_ix in cv.split(X):\n",
    "        # prepare data\n",
    "        X_train, X_test = X[train_ix], X[test_ix]\n",
    "        y_train, y_test = y[train_ix], y[test_ix]\n",
    "        # define model\n",
    "        model = model\n",
    "        # fit model, using a validation split\n",
    "        model.fit(X_train, y_train)\n",
    "        # make a prediction on the test set\n",
    "        yhat = model.predict(X_test)\n",
    "        # compute evaluation metrics\n",
    "        acc = accuracy_score(y_test, yhat)\n",
    "\n",
    "        auc = roc_auc_score(y_test, model.predict_proba(X_test), multi_class='ovr')\n",
    "\n",
    "        results.append([acc, auc])\n",
    "    return results"
   ]
  },
  {
   "cell_type": "markdown",
   "metadata": {},
   "source": [
    "### Hyperparameter tuning for Neural Network and Random Forest"
   ]
  },
  {
   "cell_type": "code",
   "execution_count": null,
   "metadata": {},
   "outputs": [
    {
     "name": "stdout",
     "output_type": "stream",
     "text": [
      "Best Parameters: {'activation': 'tanh', 'batch_size': 256, 'dropout': 0.1, 'epochs': 100, 'optimizer': 'adam'}\n",
      "Best Accuracy: 0.6318800145057941\n"
     ]
    }
   ],
   "source": [
    "X_train, X_test,  y_train, y_test = train_test_split(X_oh, y_oh, test_size = 0.2, random_state = 1)\n",
    "\n",
    "model = KerasClassifier(model=get_model, \n",
    "                        optimizer = 'adam', \n",
    "                        activation = 'relu', \n",
    "                        verbose=0,\n",
    "                        n_inputs = 18,\n",
    "                        n_outputs = 3, \n",
    "                        epochs=10, \n",
    "                        batch_size=32, \n",
    "                        dropout = 0.5)\n",
    "\n",
    "# Define the hyperparameters to tune\n",
    "param_grid = {\n",
    "    'optimizer': ['adam', 'sgd', 'rmsprop'],\n",
    "    'activation': ['relu', 'tanh'],\n",
    "    'batch_size': [64, 128, 256],\n",
    "    'epochs': [50, 80, 100],\n",
    "    'dropout': [0.2, 0,3, 0.4, 0.5]\n",
    "}\n",
    "\n",
    "grid = GridSearchCV(estimator=model, param_grid=param_grid, cv=3, error_score='raise')\n",
    "grid_result = grid.fit(X, y)\n",
    "\n",
    "print(f\"Best Parameters: {grid_result.best_params_}\")\n",
    "print(f\"Best Accuracy: {grid_result.best_score_}\")"
   ]
  },
  {
   "cell_type": "code",
   "execution_count": null,
   "metadata": {},
   "outputs": [
    {
     "name": "stdout",
     "output_type": "stream",
     "text": [
      "Best Parameters: {'bootstrap': True, 'max_depth': 10, 'min_samples_leaf': 4, 'min_samples_split': 10, 'n_estimators': 200}\n",
      "Best Accuracy: 0.6313250864119961\n"
     ]
    }
   ],
   "source": [
    "X_train, X_test, y_train, y_test = train_test_split(X_ord, y_ord, test_size = 0.2, random_state = 21)\n",
    "\n",
    "grid = {'n_estimators': [10, 50, 100, 200],\n",
    "        'max_depth': [None, 10, 20, 30],\n",
    "        'min_samples_split': [2, 5, 10],\n",
    "        'min_samples_leaf': [1, 2, 4],\n",
    "        'bootstrap': [True, False]}\n",
    "\n",
    "rf = RandomForestClassifier()\n",
    "\n",
    "grid = GridSearchCV(estimator=rf, param_grid=grid, cv=3, n_jobs=-1, verbose=0)\n",
    "\n",
    "grid_result = grid.fit(X_train, y_train)\n",
    "\n",
    "print(f\"Best Parameters: {grid_result.best_params_}\")\n",
    "print(f\"Best Accuracy: {grid_result.best_score_}\")"
   ]
  },
  {
   "cell_type": "markdown",
   "metadata": {},
   "source": [
    "### Model training and evaluation"
   ]
  },
  {
   "cell_type": "code",
   "execution_count": 244,
   "metadata": {},
   "outputs": [
    {
     "name": "stdout",
     "output_type": "stream",
     "text": [
      "\u001b[1m157/157\u001b[0m \u001b[32m━━━━━━━━━━━━━━━━━━━━\u001b[0m\u001b[37m\u001b[0m \u001b[1m0s\u001b[0m 709us/step\n"
     ]
    },
    {
     "ename": "ValueError",
     "evalue": "Classification metrics can't handle a mix of multiclass-multioutput and multilabel-indicator targets",
     "output_type": "error",
     "traceback": [
      "\u001b[1;31m---------------------------------------------------------------------------\u001b[0m",
      "\u001b[1;31mValueError\u001b[0m                                Traceback (most recent call last)",
      "Cell \u001b[1;32mIn[244], line 2\u001b[0m\n\u001b[0;32m      1\u001b[0m \u001b[38;5;66;03m# evaluate model\u001b[39;00m\n\u001b[1;32m----> 2\u001b[0m results \u001b[38;5;241m=\u001b[39m \u001b[43mevaluate_ANN_model\u001b[49m\u001b[43m(\u001b[49m\u001b[43mX_oh\u001b[49m\u001b[43m,\u001b[49m\u001b[43m \u001b[49m\u001b[43my_oh\u001b[49m\u001b[43m,\u001b[49m\u001b[43m \u001b[49m\u001b[38;5;124;43m'\u001b[39;49m\u001b[38;5;124;43madam\u001b[39;49m\u001b[38;5;124;43m'\u001b[39;49m\u001b[43m,\u001b[49m\u001b[43m \u001b[49m\u001b[38;5;124;43m'\u001b[39;49m\u001b[38;5;124;43mtanh\u001b[39;49m\u001b[38;5;124;43m'\u001b[39;49m\u001b[43m,\u001b[49m\u001b[43m \u001b[49m\u001b[38;5;241;43m0.3\u001b[39;49m\u001b[43m)\u001b[49m\n",
      "Cell \u001b[1;32mIn[243], line 61\u001b[0m, in \u001b[0;36mevaluate_ANN_model\u001b[1;34m(X, y, optimizer, activation, dropout)\u001b[0m\n\u001b[0;32m     59\u001b[0m res \u001b[38;5;241m=\u001b[39m np\u001b[38;5;241m.\u001b[39mwhere(yhat \u001b[38;5;241m==\u001b[39m \u001b[38;5;28mmax\u001b[39m, \u001b[38;5;241m1\u001b[39m, \u001b[38;5;241m0\u001b[39m)\n\u001b[0;32m     60\u001b[0m \u001b[38;5;66;03m# calculate accuracy and auc\u001b[39;00m\n\u001b[1;32m---> 61\u001b[0m acc \u001b[38;5;241m=\u001b[39m \u001b[43maccuracy_score\u001b[49m\u001b[43m(\u001b[49m\u001b[43my_test\u001b[49m\u001b[43m,\u001b[49m\u001b[43m \u001b[49m\u001b[43mres\u001b[49m\u001b[43m)\u001b[49m\n\u001b[0;32m     63\u001b[0m auc \u001b[38;5;241m=\u001b[39m roc_auc_score(y_test, model\u001b[38;5;241m.\u001b[39mpredict_proba(X_test), multi_class\u001b[38;5;241m=\u001b[39m\u001b[38;5;124m'\u001b[39m\u001b[38;5;124movr\u001b[39m\u001b[38;5;124m'\u001b[39m)\n\u001b[0;32m     65\u001b[0m \u001b[38;5;66;03m# store result\u001b[39;00m\n",
      "File \u001b[1;32mc:\\Users\\vanve\\Documents\\Code Projects\\PostNL_Assessment\\.conda\\Lib\\site-packages\\sklearn\\utils\\_param_validation.py:213\u001b[0m, in \u001b[0;36mvalidate_params.<locals>.decorator.<locals>.wrapper\u001b[1;34m(*args, **kwargs)\u001b[0m\n\u001b[0;32m    207\u001b[0m \u001b[38;5;28;01mtry\u001b[39;00m:\n\u001b[0;32m    208\u001b[0m     \u001b[38;5;28;01mwith\u001b[39;00m config_context(\n\u001b[0;32m    209\u001b[0m         skip_parameter_validation\u001b[38;5;241m=\u001b[39m(\n\u001b[0;32m    210\u001b[0m             prefer_skip_nested_validation \u001b[38;5;129;01mor\u001b[39;00m global_skip_validation\n\u001b[0;32m    211\u001b[0m         )\n\u001b[0;32m    212\u001b[0m     ):\n\u001b[1;32m--> 213\u001b[0m         \u001b[38;5;28;01mreturn\u001b[39;00m \u001b[43mfunc\u001b[49m\u001b[43m(\u001b[49m\u001b[38;5;241;43m*\u001b[39;49m\u001b[43margs\u001b[49m\u001b[43m,\u001b[49m\u001b[43m \u001b[49m\u001b[38;5;241;43m*\u001b[39;49m\u001b[38;5;241;43m*\u001b[39;49m\u001b[43mkwargs\u001b[49m\u001b[43m)\u001b[49m\n\u001b[0;32m    214\u001b[0m \u001b[38;5;28;01mexcept\u001b[39;00m InvalidParameterError \u001b[38;5;28;01mas\u001b[39;00m e:\n\u001b[0;32m    215\u001b[0m     \u001b[38;5;66;03m# When the function is just a wrapper around an estimator, we allow\u001b[39;00m\n\u001b[0;32m    216\u001b[0m     \u001b[38;5;66;03m# the function to delegate validation to the estimator, but we replace\u001b[39;00m\n\u001b[0;32m    217\u001b[0m     \u001b[38;5;66;03m# the name of the estimator by the name of the function in the error\u001b[39;00m\n\u001b[0;32m    218\u001b[0m     \u001b[38;5;66;03m# message to avoid confusion.\u001b[39;00m\n\u001b[0;32m    219\u001b[0m     msg \u001b[38;5;241m=\u001b[39m re\u001b[38;5;241m.\u001b[39msub(\n\u001b[0;32m    220\u001b[0m         \u001b[38;5;124mr\u001b[39m\u001b[38;5;124m\"\u001b[39m\u001b[38;5;124mparameter of \u001b[39m\u001b[38;5;124m\\\u001b[39m\u001b[38;5;124mw+ must be\u001b[39m\u001b[38;5;124m\"\u001b[39m,\n\u001b[0;32m    221\u001b[0m         \u001b[38;5;124mf\u001b[39m\u001b[38;5;124m\"\u001b[39m\u001b[38;5;124mparameter of \u001b[39m\u001b[38;5;132;01m{\u001b[39;00mfunc\u001b[38;5;241m.\u001b[39m\u001b[38;5;18m__qualname__\u001b[39m\u001b[38;5;132;01m}\u001b[39;00m\u001b[38;5;124m must be\u001b[39m\u001b[38;5;124m\"\u001b[39m,\n\u001b[0;32m    222\u001b[0m         \u001b[38;5;28mstr\u001b[39m(e),\n\u001b[0;32m    223\u001b[0m     )\n",
      "File \u001b[1;32mc:\\Users\\vanve\\Documents\\Code Projects\\PostNL_Assessment\\.conda\\Lib\\site-packages\\sklearn\\metrics\\_classification.py:231\u001b[0m, in \u001b[0;36maccuracy_score\u001b[1;34m(y_true, y_pred, normalize, sample_weight)\u001b[0m\n\u001b[0;32m    229\u001b[0m xp, _, device \u001b[38;5;241m=\u001b[39m get_namespace_and_device(y_true, y_pred, sample_weight)\n\u001b[0;32m    230\u001b[0m \u001b[38;5;66;03m# Compute accuracy for each possible representation\u001b[39;00m\n\u001b[1;32m--> 231\u001b[0m y_type, y_true, y_pred \u001b[38;5;241m=\u001b[39m \u001b[43m_check_targets\u001b[49m\u001b[43m(\u001b[49m\u001b[43my_true\u001b[49m\u001b[43m,\u001b[49m\u001b[43m \u001b[49m\u001b[43my_pred\u001b[49m\u001b[43m)\u001b[49m\n\u001b[0;32m    232\u001b[0m check_consistent_length(y_true, y_pred, sample_weight)\n\u001b[0;32m    233\u001b[0m \u001b[38;5;28;01mif\u001b[39;00m y_type\u001b[38;5;241m.\u001b[39mstartswith(\u001b[38;5;124m\"\u001b[39m\u001b[38;5;124mmultilabel\u001b[39m\u001b[38;5;124m\"\u001b[39m):\n",
      "File \u001b[1;32mc:\\Users\\vanve\\Documents\\Code Projects\\PostNL_Assessment\\.conda\\Lib\\site-packages\\sklearn\\metrics\\_classification.py:112\u001b[0m, in \u001b[0;36m_check_targets\u001b[1;34m(y_true, y_pred)\u001b[0m\n\u001b[0;32m    109\u001b[0m     y_type \u001b[38;5;241m=\u001b[39m {\u001b[38;5;124m\"\u001b[39m\u001b[38;5;124mmulticlass\u001b[39m\u001b[38;5;124m\"\u001b[39m}\n\u001b[0;32m    111\u001b[0m \u001b[38;5;28;01mif\u001b[39;00m \u001b[38;5;28mlen\u001b[39m(y_type) \u001b[38;5;241m>\u001b[39m \u001b[38;5;241m1\u001b[39m:\n\u001b[1;32m--> 112\u001b[0m     \u001b[38;5;28;01mraise\u001b[39;00m \u001b[38;5;167;01mValueError\u001b[39;00m(\n\u001b[0;32m    113\u001b[0m         \u001b[38;5;124m\"\u001b[39m\u001b[38;5;124mClassification metrics can\u001b[39m\u001b[38;5;124m'\u001b[39m\u001b[38;5;124mt handle a mix of \u001b[39m\u001b[38;5;132;01m{0}\u001b[39;00m\u001b[38;5;124m and \u001b[39m\u001b[38;5;132;01m{1}\u001b[39;00m\u001b[38;5;124m targets\u001b[39m\u001b[38;5;124m\"\u001b[39m\u001b[38;5;241m.\u001b[39mformat(\n\u001b[0;32m    114\u001b[0m             type_true, type_pred\n\u001b[0;32m    115\u001b[0m         )\n\u001b[0;32m    116\u001b[0m     )\n\u001b[0;32m    118\u001b[0m \u001b[38;5;66;03m# We can't have more than one value on y_type => The set is no more needed\u001b[39;00m\n\u001b[0;32m    119\u001b[0m y_type \u001b[38;5;241m=\u001b[39m y_type\u001b[38;5;241m.\u001b[39mpop()\n",
      "\u001b[1;31mValueError\u001b[0m: Classification metrics can't handle a mix of multiclass-multioutput and multilabel-indicator targets"
     ]
    }
   ],
   "source": [
    "# evaluate model\n",
    "results = evaluate_ANN_model(X_oh, y_oh, 'adam', 'tanh', 0.3)\n"
   ]
  },
  {
   "cell_type": "code",
   "execution_count": 101,
   "metadata": {},
   "outputs": [],
   "source": [
    "rf = RandomForestClassifier(**grid_result.best_params_)\n",
    "\n",
    "result = kFold(rf)\n"
   ]
  },
  {
   "cell_type": "code",
   "execution_count": 100,
   "metadata": {},
   "outputs": [
    {
     "data": {
      "text/plain": [
       "{'bootstrap': True,\n",
       " 'max_depth': 10,\n",
       " 'min_samples_leaf': 4,\n",
       " 'min_samples_split': 10,\n",
       " 'n_estimators': 200}"
      ]
     },
     "execution_count": 100,
     "metadata": {},
     "output_type": "execute_result"
    }
   ],
   "source": [
    "grid_result.best_params_"
   ]
  },
  {
   "cell_type": "code",
   "execution_count": 54,
   "metadata": {},
   "outputs": [
    {
     "name": "stdout",
     "output_type": "stream",
     "text": [
      "0.6288 0.7457924609342915\n",
      "0.6324 0.7378409899408869\n",
      "0.6336 0.7398892574243782\n",
      "0.6478 0.75250016512426\n",
      "0.6432 0.7501410769465916\n",
      "0.626 0.7382992146477431\n",
      "0.6316 0.7488256215298089\n",
      "0.6302 0.7379770010497024\n",
      "0.6298 0.745863652026619\n",
      "0.6382 0.7465132688099819\n",
      "0.6378 0.7493340943957422\n",
      "0.6322 0.7473687877734606\n",
      "0.6332 0.7455786775504896\n",
      "0.6318 0.7416202054801042\n",
      "0.619 0.7359248845312322\n",
      "0.6484 0.7508589945219241\n",
      "0.6364 0.7471204134684841\n",
      "0.6322 0.7339008249449379\n",
      "0.6354 0.7430791488705529\n",
      "0.6352 0.7516670589740482\n",
      "0.637 0.7487960520681011\n",
      "0.6342 0.7446776640327416\n",
      "0.6324 0.7462111229168258\n",
      "0.633 0.7484889126483201\n",
      "0.6316 0.7411143626681881\n",
      "0.6368 0.7439733813008385\n",
      "0.6436 0.7529939398349689\n",
      "0.6344 0.742846519312122\n",
      "0.6334 0.7464205485448101\n",
      "0.6252 0.7302206336831881\n"
     ]
    }
   ],
   "source": [
    "model = XGBClassifier(objective='multi:softprob', reg_lambda = 100, reg_alpha = 100)\n",
    "result = kFold(X, y, model)\n",
    "\n"
   ]
  },
  {
   "cell_type": "code",
   "execution_count": 56,
   "metadata": {},
   "outputs": [
    {
     "name": "stdout",
     "output_type": "stream",
     "text": [
      "[0.63416    0.74452796]\n"
     ]
    }
   ],
   "source": [
    "print(np.mean(result, axis =0))"
   ]
  },
  {
   "cell_type": "code",
   "execution_count": 447,
   "metadata": {},
   "outputs": [
    {
     "name": "stdout",
     "output_type": "stream",
     "text": [
      "hour                 0.242596\n",
      "is_weekend           0.006652\n",
      "traffic_level        0.003565\n",
      "weather_condition    0.000649\n",
      "parcel_weight_kg     0.000025\n",
      "parcel_size          0.000019\n",
      "distance_km          0.000014\n",
      "dtype: float64\n"
     ]
    }
   ],
   "source": [
    "# Calculate permutation feature importance\n",
    "result = permutation_importance(\n",
    "    model, X_test, y_test, scoring='neg_log_loss', n_repeats=10, random_state=42\n",
    ")\n",
    "\n",
    "# Get the feature importances and sort them in descending order\n",
    "feature_importances = pd.Series(result.importances_mean, index=delivery_data.iloc[:, :-1].columns).sort_values(ascending=False)\n",
    "\n",
    "# Print the feature importances\n",
    "print(feature_importances)"
   ]
  },
  {
   "cell_type": "code",
   "execution_count": 25,
   "metadata": {},
   "outputs": [
    {
     "name": "stdout",
     "output_type": "stream",
     "text": [
      "0.6198 0.6970101488687668\n",
      "0.6254 0.6970942820688283\n",
      "0.6258 0.6957739178834427\n",
      "0.6412 0.7033575358860986\n",
      "0.634 0.700642525727717\n",
      "0.6216 0.6910473441526599\n",
      "0.6202 0.7028875438207104\n",
      "0.6254 0.6966386740755984\n",
      "0.625 0.6967193889561405\n",
      "0.6344 0.7047743364728914\n",
      "0.6286 0.6984422581924576\n",
      "0.6252 0.7024048571734012\n",
      "0.6264 0.7050950441497855\n",
      "0.6272 0.6974040292569056\n",
      "0.6176 0.6869882361044531\n",
      "0.6418 0.7009473355743904\n",
      "0.6286 0.6986138106836073\n",
      "0.6224 0.6943238386027503\n",
      "0.6306 0.6990093147589915\n",
      "0.6302 0.7030519364384861\n",
      "0.6336 0.6961240114300818\n",
      "0.6296 0.6943254977932304\n",
      "0.6284 0.6965590466477285\n",
      "0.629 0.6974767725316022\n",
      "0.6254 0.6985598676270364\n",
      "0.6296 0.7027530689594772\n",
      "0.6362 0.7045593246722118\n",
      "0.6264 0.7008981649438922\n",
      "0.6274 0.7018587607897189\n",
      "0.615 0.6937285328642643\n"
     ]
    }
   ],
   "source": [
    "model = OneVsRestClassifier(LogisticRegression(solver='newton-cholesky', max_iter=1000, penalty='l2', C = 0.01))\n",
    "scaler = StandardScaler()\n",
    "\n",
    "X[:, [1, 2]] = scaler.fit_transform(X[:, [1, 2]])\n",
    "\n",
    "result = kFold(X, y, model)"
   ]
  }
 ],
 "metadata": {
  "kernelspec": {
   "display_name": "Python 3",
   "language": "python",
   "name": "python3"
  },
  "language_info": {
   "codemirror_mode": {
    "name": "ipython",
    "version": 3
   },
   "file_extension": ".py",
   "mimetype": "text/x-python",
   "name": "python",
   "nbconvert_exporter": "python",
   "pygments_lexer": "ipython3",
   "version": "3.12.5"
  }
 },
 "nbformat": 4,
 "nbformat_minor": 2
}
